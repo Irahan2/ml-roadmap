{
 "cells": [
  {
   "cell_type": "code",
   "execution_count": 4,
   "id": "46214ffe",
   "metadata": {},
   "outputs": [
    {
     "data": {
      "text/plain": [
       "'From this website u can check curent list of LLMs: https://python.langchain.com/docs/integrations/llms/'"
      ]
     },
     "execution_count": 4,
     "metadata": {},
     "output_type": "execute_result"
    }
   ],
   "source": [
    "\"From this website u can check curent list of LLMs: https://python.langchain.com/docs/integrations/llms/\""
   ]
  },
  {
   "cell_type": "code",
   "execution_count": null,
   "id": "fb58a4ea",
   "metadata": {},
   "outputs": [],
   "source": [
    "# Load environment variables (API keys, etc.) from .env file\n",
    "import os\n",
    "from dotenv import load_dotenv,find_dotenv\n",
    "_ = load_dotenv(find_dotenv())\n",
    "openai_api_key = os.environ[\"OPENAI_API_KEY\"]"
   ]
  },
  {
   "cell_type": "code",
   "execution_count": null,
   "id": "1738964f",
   "metadata": {},
   "outputs": [],
   "source": [
    "# Initialize OpenAI completion model using LangChain\n",
    "from langchain_openai import OpenAI\n",
    "\n",
    "llmModel = OpenAI()"
   ]
  },
  {
   "cell_type": "code",
   "execution_count": 6,
   "id": "6d1d10bf",
   "metadata": {},
   "outputs": [
    {
     "data": {
      "text/plain": [
       "OpenAI(client=<openai.resources.completions.Completions object at 0x00000264A97B64D0>, async_client=<openai.resources.completions.AsyncCompletions object at 0x00000264A97CA450>, model_kwargs={}, openai_api_key=SecretStr('**********'))"
      ]
     },
     "execution_count": 6,
     "metadata": {},
     "output_type": "execute_result"
    }
   ],
   "source": [
    "llmModel"
   ]
  },
  {
   "cell_type": "code",
   "execution_count": null,
   "id": "f4b79c8f",
   "metadata": {},
   "outputs": [
    {
     "name": "stdout",
     "output_type": "stream",
     "text": [
      "\n",
      "\n",
      "Ronaldo is a Portuguese professional footballer, widely considered one of the greatest players of all time. He currently plays for Italian club Juventus and the Portugal national team. Throughout his career, he has won numerous awards and accolades, including five Ballon d'Or awards and four European Golden Shoes. He is known for his exceptional speed, skill, and goal-scoring ability.\n"
     ]
    }
   ],
   "source": [
    "# Invoke the model with a simple prompt and print the response\n",
    "response= llmModel.invoke(\"Who is Ronaldo?\")\n",
    "print(response)"
   ]
  },
  {
   "cell_type": "code",
   "execution_count": null,
   "id": "b3bbfbc0",
   "metadata": {},
   "outputs": [
    {
     "name": "stdout",
     "output_type": "stream",
     "text": [
      "\n",
      "\n",
      "OpenAI is an artificial intelligence research laboratory and company founded in 2015 by a group of entrepreneurs, researchers, and philanthropists, including Elon Musk and Sam Altman. The company's goal is to create and promote friendly AI that will benefit humanity as a whole.\n",
      "\n",
      "OpenAI's primary focus is on developing advanced artificial intelligence technologies, including natural language processing, machine learning, and robotics. The company conducts research in a wide range of fields, including deep learning, reinforcement learning, and generative modeling. They also collaborate with other research institutions and companies to advance the field of AI.\n",
      "\n",
      "One of the key principles of OpenAI is transparency. The company publishes most of its research findings and code publicly, allowing other researchers and developers to build upon their work and contribute to the advancement of AI.\n",
      "\n",
      "In addition to research, OpenAI also works on practical applications of AI. They have developed several tools and technologies, including GPT-3, a language model that can generate human-like text, and DALL-E, an AI system that can generate images from text descriptions. These tools have potential applications in various fields, such as natural language processing, chatbots, and content creation.\n",
      "\n",
      "OpenAI also has a strong focus on ethical AI. The company has developed an AI safety team"
     ]
    }
   ],
   "source": [
    "# Stream the response for a detailed prompt (prints output as it generates)\n",
    "for chunk in llmModel.stream(\n",
    "  \" What  is OpenAI , I need detailed response?\"  \n",
    "):\n",
    "    print(chunk, end=\"\", flush=True)"
   ]
  },
  {
   "cell_type": "markdown",
   "id": "53ee3bc7",
   "metadata": {},
   "source": [
    "# Temperature: more or less creativity"
   ]
  },
  {
   "cell_type": "code",
   "execution_count": null,
   "id": "cab3f28d",
   "metadata": {},
   "outputs": [],
   "source": [
    "# Temperature parameter controls creativity (higher = more creative)\n",
    "creativeLlmModel = OpenAI(temperature=0.9)"
   ]
  },
  {
   "cell_type": "code",
   "execution_count": null,
   "id": "c3498999",
   "metadata": {},
   "outputs": [
    {
     "name": "stdout",
     "output_type": "stream",
     "text": [
      "\n",
      "\n",
      "1. Build a deck: Before playing, you need to build a deck of 60 cards. You can choose from a variety of Pokémon, Trainer, and Energy cards to create your deck.\n",
      "\n",
      "2. Shuffle your deck: Once your deck is built, shuffle it thoroughly. This will ensure that your cards are randomly spread out and you have a fair chance of drawing different cards.\n",
      "\n",
      "3. Draw seven cards: Each player draws seven cards from their deck at the beginning of the game. If you don't have any Basic Pokémon in your hand, shuffle your hand back into your deck and draw seven new cards.\n",
      "\n",
      "4. Set up your Active Pokémon: Choose one Basic Pokémon from your hand and place it face down on the playing area. This will be your Active Pokémon for the game.\n",
      "\n",
      "5. Place your bench Pokémon: You can also put up to five other Basic Pokémon on your bench, which is the area next to your Active Pokémon. They will be available to use in future turns.\n",
      "\n",
      "6. Draw and play cards: On your turn, draw a card from your deck and add it to your hand. You can also play a Basic Pokémon, Energy card, Trainer card, or evolve your Pokémon.\n",
      "\n",
      "7. Use attacks and retreat: Once you have set up your cards\n"
     ]
    }
   ],
   "source": [
    "# Example of a creative response\n",
    "response= creativeLlmModel.invoke(\"How to play pokemon cards ?\")\n",
    "print(response)"
   ]
  },
  {
   "cell_type": "markdown",
   "id": "fe249945",
   "metadata": {},
   "source": [
    "# Chat Model"
   ]
  },
  {
   "cell_type": "code",
   "execution_count": null,
   "id": "6fe08d06",
   "metadata": {},
   "outputs": [],
   "source": [
    "# Initialize ChatOpenAI model (chat-based, supports system/human messages)\n",
    "from langchain_openai import ChatOpenAI\n",
    "chatModel = ChatOpenAI(model=\"gpt-3.5-turbo-0125\")\n"
   ]
  },
  {
   "cell_type": "code",
   "execution_count": null,
   "id": "c1f8d7c4",
   "metadata": {},
   "outputs": [
    {
     "name": "stdout",
     "output_type": "stream",
     "text": [
      "content=\"A fun fact about Lionel Messi is that he has won the FIFA Ballon d'Or award (given to the world's best male player) a record 7 times, more than any other player in history.\" additional_kwargs={'refusal': None} response_metadata={'token_usage': {'completion_tokens': 43, 'prompt_tokens': 25, 'total_tokens': 68, 'completion_tokens_details': {'accepted_prediction_tokens': 0, 'audio_tokens': 0, 'reasoning_tokens': 0, 'rejected_prediction_tokens': 0}, 'prompt_tokens_details': {'audio_tokens': 0, 'cached_tokens': 0}}, 'model_name': 'gpt-3.5-turbo-0125', 'system_fingerprint': None, 'id': 'chatcmpl-CBGzYmKAzqYY6zHG0UbLqKiF8HCLb', 'service_tier': 'default', 'finish_reason': 'stop', 'logprobs': None} id='run--55bd2f45-9174-4818-860c-fda0de545f8a-0' usage_metadata={'input_tokens': 25, 'output_tokens': 43, 'total_tokens': 68, 'input_token_details': {'audio': 0, 'cache_read': 0}, 'output_token_details': {'audio': 0, 'reasoning': 0}}\n"
     ]
    }
   ],
   "source": [
    "# Define messages for chat (system sets behavior, human asks question)\n",
    "messages = [\n",
    "    (\"system\", \"You are a  expert of football\"),\n",
    "    (\"human\", \"Give me a fun fact about Messi\"),\n",
    "]\n",
    "\n",
    "response = chatModel.invoke(messages)\n",
    "\n",
    "print(response)"
   ]
  },
  {
   "cell_type": "code",
   "execution_count": null,
   "id": "41456503",
   "metadata": {},
   "outputs": [
    {
     "data": {
      "text/plain": [
       "\"A fun fact about Lionel Messi is that he has won the FIFA Ballon d'Or award (given to the world's best male player) a record 7 times, more than any other player in history.\""
      ]
     },
     "execution_count": 33,
     "metadata": {},
     "output_type": "execute_result"
    }
   ],
   "source": [
    "# Access only the content of the response\n",
    "response.content"
   ]
  },
  {
   "cell_type": "code",
   "execution_count": null,
   "id": "333661aa",
   "metadata": {},
   "outputs": [
    {
     "data": {
      "text/plain": [
       "{'token_usage': {'completion_tokens': 43,\n",
       "  'prompt_tokens': 25,\n",
       "  'total_tokens': 68,\n",
       "  'completion_tokens_details': {'accepted_prediction_tokens': 0,\n",
       "   'audio_tokens': 0,\n",
       "   'reasoning_tokens': 0,\n",
       "   'rejected_prediction_tokens': 0},\n",
       "  'prompt_tokens_details': {'audio_tokens': 0, 'cached_tokens': 0}},\n",
       " 'model_name': 'gpt-3.5-turbo-0125',\n",
       " 'system_fingerprint': None,\n",
       " 'id': 'chatcmpl-CBGzYmKAzqYY6zHG0UbLqKiF8HCLb',\n",
       " 'service_tier': 'default',\n",
       " 'finish_reason': 'stop',\n",
       " 'logprobs': None}"
      ]
     },
     "execution_count": 34,
     "metadata": {},
     "output_type": "execute_result"
    }
   ],
   "source": [
    "# Access response metadata (useful for debugging or logging)\n",
    "response.response_metadata"
   ]
  },
  {
   "cell_type": "markdown",
   "id": "bf0c0dc5",
   "metadata": {},
   "source": [
    "# --- OLD LangChain message format ---"
   ]
  },
  {
   "cell_type": "code",
   "execution_count": 39,
   "id": "7a4c52cc",
   "metadata": {},
   "outputs": [],
   "source": [
    "from langchain_core.messages import HumanMessage, SystemMessage\n",
    "from langchain_core.prompts import ChatPromptTemplate"
   ]
  },
  {
   "cell_type": "code",
   "execution_count": null,
   "id": "0ec0b2f0",
   "metadata": {},
   "outputs": [
    {
     "name": "stdout",
     "output_type": "stream",
     "text": [
      "content=\"Sure! Here's a fun fact about Lionel Messi: He holds the Guinness World Record for the most goals scored in a calendar year. Messi scored an incredible 91 goals in the year 2012 while playing for FC Barcelona and the Argentina national team.\" additional_kwargs={'refusal': None} response_metadata={'token_usage': {'completion_tokens': 51, 'prompt_tokens': 26, 'total_tokens': 77, 'completion_tokens_details': {'accepted_prediction_tokens': 0, 'audio_tokens': 0, 'reasoning_tokens': 0, 'rejected_prediction_tokens': 0}, 'prompt_tokens_details': {'audio_tokens': 0, 'cached_tokens': 0}}, 'model_name': 'gpt-3.5-turbo-0125', 'system_fingerprint': None, 'id': 'chatcmpl-CBH3mp9XWRJ0PEUOvCh0X6uWjxbaJ', 'service_tier': 'default', 'finish_reason': 'stop', 'logprobs': None} id='run--0444d186-21ed-42b3-acd6-c90012ab23c7-0' usage_metadata={'input_tokens': 26, 'output_tokens': 51, 'total_tokens': 77, 'input_token_details': {'audio': 0, 'cache_read': 0}, 'output_token_details': {'audio': 0, 'reasoning': 0}}\n"
     ]
    }
   ],
   "source": [
    "# Use SystemMessage and HumanMessage objects for chat\n",
    "messages = [\n",
    "    SystemMessage(content= \"You are a  expert of football.\"),\n",
    "    HumanMessage(content=\"Give me a fun fact about Messi\"),\n",
    "]\n",
    "\n",
    "response = chatModel.invoke(messages)\n",
    "print(response)"
   ]
  },
  {
   "cell_type": "markdown",
   "id": "7b7c9bae",
   "metadata": {},
   "source": [
    "# --- Alternative LLM: Groq (Llama-3) ---\n"
   ]
  },
  {
   "cell_type": "markdown",
   "id": "7efe8bc1",
   "metadata": {},
   "source": [
    " Groq console: https://console.groq.com/home\n"
   ]
  },
  {
   "cell_type": "code",
   "execution_count": null,
   "id": "954d4513",
   "metadata": {},
   "outputs": [],
   "source": [
    "# Load environment variables again (if needed)\n",
    "import os\n",
    "from dotenv import load_dotenv, find_dotenv\n",
    "\n",
    "_ = load_dotenv(find_dotenv())"
   ]
  },
  {
   "cell_type": "code",
   "execution_count": null,
   "id": "a4902231",
   "metadata": {},
   "outputs": [],
   "source": [
    "# Initialize Groq's Llama-3 chat model\n",
    "from langchain_groq import ChatGroq\n",
    "\n",
    "llamaChatModel = ChatGroq(\n",
    "    model=\"llama-3.3-70b-versatile\"\n",
    ")"
   ]
  },
  {
   "cell_type": "code",
   "execution_count": null,
   "id": "c04258f1",
   "metadata": {},
   "outputs": [],
   "source": [
    "# Define messages for Groq chat\n",
    "messages = [\n",
    "    (\"system\", \"You are a  expert of football\"),\n",
    "    (\"human\", \"Give me a fun fact about Messi\"),\n",
    "]"
   ]
  },
  {
   "cell_type": "code",
   "execution_count": 47,
   "id": "1d25ee43",
   "metadata": {},
   "outputs": [],
   "source": [
    "llamaResponse = llamaChatModel.invoke(messages)"
   ]
  },
  {
   "cell_type": "code",
   "execution_count": 49,
   "id": "3d917edf",
   "metadata": {},
   "outputs": [
    {
     "name": "stdout",
     "output_type": "stream",
     "text": [
      "Here's a fun fact about Lionel Messi: \n",
      "\n",
      "Lionel Messi is the only player in football history to have won the Ballon d'Or, the European Golden Shoe, and the FIFA World Player of the Year award all in the same year, and he's achieved this feat a record-breaking four times (2009, 2010, 2011, and 2012). Isn't that amazing?\n"
     ]
    }
   ],
   "source": [
    "print(llamaResponse.content)"
   ]
  },
  {
   "cell_type": "code",
   "execution_count": null,
   "id": "9edc5c77",
   "metadata": {},
   "outputs": [],
   "source": []
  }
 ],
 "metadata": {
  "kernelspec": {
   "display_name": "llmapp",
   "language": "python",
   "name": "python3"
  },
  "language_info": {
   "codemirror_mode": {
    "name": "ipython",
    "version": 3
   },
   "file_extension": ".py",
   "mimetype": "text/x-python",
   "name": "python",
   "nbconvert_exporter": "python",
   "pygments_lexer": "ipython3",
   "version": "3.11.13"
  }
 },
 "nbformat": 4,
 "nbformat_minor": 5
}

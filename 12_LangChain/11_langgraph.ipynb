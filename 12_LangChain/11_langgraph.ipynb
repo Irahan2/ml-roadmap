{
 "cells": [
  {
   "cell_type": "code",
   "execution_count": 2,
   "id": "72a96484",
   "metadata": {},
   "outputs": [],
   "source": [
    "import os\n",
    "from dotenv import load_dotenv, find_dotenv\n",
    "_ = load_dotenv(find_dotenv())\n",
    "openai_api_key = os.environ[\"OPENAI_API_KEY\"]\n"
   ]
  },
  {
   "cell_type": "code",
   "execution_count": 3,
   "id": "9149ed2b",
   "metadata": {},
   "outputs": [],
   "source": [
    "from langchain_openai import ChatOpenAI\n",
    "\n",
    "llm = ChatOpenAI (model =\"gpt-3.5-turbo-0125\")"
   ]
  },
  {
   "cell_type": "code",
   "execution_count": 9,
   "id": "888c4b36",
   "metadata": {},
   "outputs": [
    {
     "data": {
      "text/plain": [
       "[{'title': 'Mustafa Kemal Atatürk - Wikipedia',\n",
       "  'url': 'https://en.wikipedia.org/wiki/Mustafa_Kemal_Atat%C3%BCrk',\n",
       "  'content': 'Mustafa Kemal Atatürk (c. 1881 – 10 November 1938) was a Turkish field marshal and revolutionary statesman who was the founding father of the Republic of Turkey, serving as its first president from 1923 until his death in 1938. He undertook sweeping reforms, which modernized Turkey into a secular, industrializing nation. Ideologically a secularist and nationalist, his policies and socio-political theories became known as Kemalism. [...] trying to create a homogeneous, unified and above all secular nation under the Turkish banner. The Turkish Parliament granted him the surname Atatürk in 1934, which means \"Father of the Turks\", in recognition of the role he played in building the modern Turkish Republic. He died on 10 November 1938 at Dolmabahçe Palace in Istanbul, at the age of 57; he was succeeded as president by his long-time prime minister İsmet İnönü. [...] line to the north of Aleppo. According to Lord Kinross, Mustafa Kemal was the only Turkish general in the war who never suffered a defeat.',\n",
       "  'score': 0.9412289},\n",
       " {'title': 'Kemal Ataturk | Biography, Reforms, Death, & Facts - Britannica',\n",
       "  'url': 'https://www.britannica.com/biography/Kemal-Ataturk',\n",
       "  'content': 'Kemal Atatürk (born 1881, Salonika [now Thessaloníki], Greece—died November 10, 1938, Istanbul, Turkey) was a soldier, statesman, and reformer who was the founder and first president (1923–38) of the Republic of Turkey. He modernized the country’s legal and educational systems and encouraged the adoption of a European way of life, with Turkish written in the Latin alphabet and with citizens adopting European-style names. [...] SUBSCRIBE\\n\\nAsk the Chatbot Games & Quizzes History & Society Science & Tech Biographies Animals & Nature Geography & Travel Arts & Culture ProCon Money Videos\\n\\n# Kemal Atatürk\\n\\npresident of Turkey\\n\\nAlso known as: Mustafa Kemal, Mustafa Kemal Paşa\\n\\nWritten by\\n\\nNorman Itzkowitz\\n\\nProfessor of Near Eastern Studies, Princeton University. Author of Ottoman Empire and Islamic Tradition; coauthor of The Immortal Ataturk.\\n\\nNorman Itzkowitz\\n\\nFact-checked by\\n\\nThe Editors of Encyclopaedia Britannica',\n",
       "  'score': 0.902687},\n",
       " {'title': 'Atatürk | Research Starters - EBSCO',\n",
       "  'url': 'https://www.ebsco.com/research-starters/history/ataturk',\n",
       "  'content': 'Mustafa Kemal Atatürk, born in 1881 in Salonika (now Thessaloniki, Greece), is recognized as the founder of modern Turkey. He emerged as a prominent military leader during World War I, notably for his defense during the Gallipoli Campaign. Following the defeat of the Ottoman Empire, Atatürk became a key figure in the Turkish National Movement, advocating for national sovereignty and modernization. In 1923, he declared the establishment of the Republic of Turkey, positioning himself as its first [...] Atatürk (AT-a-turk), the founder of Turkey who selected the name Atatürk in 1934, was born in Salonika, a major port in what was then the Ottoman Empire’s province of Macedonia (now part of Greece). His parents, Ali Rīza and Zubeyde, had given him the name Mustafa in honor of an older brother who had died in infancy. As Mustafa, Atatürk’s early years were marked by his family’s declining fortunes. His father lost all his money in a salt venture. When his application for readmission to the civil',\n",
       "  'score': 0.8947989}]"
      ]
     },
     "execution_count": 9,
     "metadata": {},
     "output_type": "execute_result"
    }
   ],
   "source": [
    "# We could also use Serper API (https://serper.dev/)\n",
    "\n",
    "from langchain_community.tools.tavily_search import TavilySearchResults\n",
    "search = TavilySearchResults(max_results=3) # Create search tool, limit results\n",
    "search.invoke(\"Who İs Mustafa Kemal Atatürk\")\n",
    "\n",
    "\n"
   ]
  },
  {
   "cell_type": "code",
   "execution_count": 10,
   "id": "5018204f",
   "metadata": {},
   "outputs": [],
   "source": [
    "tools = [search]"
   ]
  },
  {
   "cell_type": "code",
   "execution_count": 11,
   "id": "fdb81190",
   "metadata": {},
   "outputs": [
    {
     "data": {
      "text/plain": [
       "[TavilySearchResults(max_results=3, api_wrapper=TavilySearchAPIWrapper(tavily_api_key=SecretStr('**********')))]"
      ]
     },
     "execution_count": 11,
     "metadata": {},
     "output_type": "execute_result"
    }
   ],
   "source": [
    "tools"
   ]
  },
  {
   "cell_type": "code",
   "execution_count": 12,
   "id": "df8010fe",
   "metadata": {},
   "outputs": [],
   "source": [
    "from langgraph.prebuilt import create_react_agent\n",
    "\n",
    "# Create a ReAct agent with an LLM and a set of tools\n",
    "agent_executor = create_react_agent(llm, tools)\n"
   ]
  },
  {
   "cell_type": "code",
   "execution_count": 13,
   "id": "b7e41a62",
   "metadata": {},
   "outputs": [
    {
     "data": {
      "text/plain": [
       "[HumanMessage(content='Where is the soccer Eurocup 2024 played?', additional_kwargs={}, response_metadata={}, id='cbf6e529-cae3-4f2f-98f1-66b602be3992'),\n",
       " AIMessage(content='', additional_kwargs={'tool_calls': [{'id': 'call_4J37p8ga01EZ2cs1o4cU63hi', 'function': {'arguments': '{\"query\":\"Soccer Eurocup 2024 location\"}', 'name': 'tavily_search_results_json'}, 'type': 'function'}], 'refusal': None}, response_metadata={'token_usage': {'completion_tokens': 25, 'prompt_tokens': 92, 'total_tokens': 117, 'completion_tokens_details': {'accepted_prediction_tokens': 0, 'audio_tokens': 0, 'reasoning_tokens': 0, 'rejected_prediction_tokens': 0}, 'prompt_tokens_details': {'audio_tokens': 0, 'cached_tokens': 0}}, 'model_name': 'gpt-3.5-turbo-0125', 'system_fingerprint': None, 'id': 'chatcmpl-CCKgImmL4IXvqpnxLa02j4fbkS5vo', 'service_tier': 'default', 'finish_reason': 'tool_calls', 'logprobs': None}, id='run--c162144e-bcd9-4a4d-92d2-fa515f42afc7-0', tool_calls=[{'name': 'tavily_search_results_json', 'args': {'query': 'Soccer Eurocup 2024 location'}, 'id': 'call_4J37p8ga01EZ2cs1o4cU63hi', 'type': 'tool_call'}], usage_metadata={'input_tokens': 92, 'output_tokens': 25, 'total_tokens': 117, 'input_token_details': {'audio': 0, 'cache_read': 0}, 'output_token_details': {'audio': 0, 'reasoning': 0}}),\n",
       " ToolMessage(content='[{\"title\": \"Euro 2024 locations, host cities and stadiums - FOX Sports\", \"url\": \"https://www.foxsports.com/stories/soccer/euro-2024-locations-host-cities-and-stadiums\", \"content\": \"Below is a list of the 2024 host cities as well as their stadiums and capacities:\\\\n\\\\n Berlin: Olympiastadion Berlin (Capacity: 74,461)\\\\n Cologne: Cologne Stadium (49,827)\\\\n Dortmund: BVB Stadion Dortmund (65,849)\\\\n Düsseldorf: Düsseldorf Arena (51,031)\\\\n Gelsenkirchen: Arena AufSchalke (54,740)\\\\n Frankfurt: Frankfurt Arena (54,697)\\\\n Hamburg: Volksparkstadion (52,245)\\\\n Leipzig: Leipzig Stadium (42,959)\\\\n Munich: Fußball Arena München (70,076)\\\\n Stuttgart: Stuttgart Arena (54,906)\", \"score\": 0.8377398}, {\"title\": \"UEFA Euro 2024\", \"url\": \"https://en.wikipedia.org/wiki/UEFA_Euro_2024\", \"content\": \"| Gelsenkirchen | Berlin  Munich  Dortmund  Gelsenkirchen  Stuttgart  Hamburg  Düsseldorf  Cologne  Frankfurt  Leipzig  class=notpageimage| Location of the host cities of the UEFA Euro 2024. | | |\\\\n| Arena AufSchalke |\\\\n| Capacity: 50,000 |\\\\n|  |\\\\n| Hamburg |\\\\n| Volksparkstadion (Volksparkstadion Hamburg) |\\\\n| Capacity: 49,000 |\\\\n|  |\\\\n| Düsseldorf | Frankfurt | Cologne | Leipzig | [...] Of the ten venues selected for Euro 2024, nine were used for the 2006 FIFA World Cup: Berlin, Dortmund, Munich, Cologne, Stuttgart, Hamburg, Leipzig, Frankfurt, and Gelsenkirchen. Düsseldorf, which was not used in 2006 but had previously been used for the 1974 FIFA World Cup and UEFA Euro 1988, served as the tenth venue; conversely, Hanover, Nuremberg and Kaiserslautern, host cities in 2006 (in addition to 1974 and 1988 in Hanover\\'s case), were not used for this championship. Munich, the site [...] Various other stadiums, such as those in Bremen and Mönchengladbach, were not selected. The area with the highest number of venues at UEFA Euro 2024 was the Rhine-Ruhr metropolitan region in the state of North Rhine-Westphalia, with four of the ten host cities (Dortmund, Düsseldorf, Gelsenkirchen and Cologne).\", \"score\": 0.767847}, {\"title\": \"Euro 2024 Stadiums: Germany – StadiumDB.com\", \"url\": \"https://stadiumdb.com/tournaments/euro/2024\", \"content\": \"| Stadium | Fixture | Attendance | Date (local time) |\\\\n ---  --- |\\\\n| Munich Football Arena | Romania 3–0 Ukraine | 61 591 | 17/06/2024 15:00 |\\\\n| Frankfurt Arena | Belgium 0–1 Slovakia | 45 181 | 17/06/2024 18:00 |\\\\n| Düsseldorf Arena | Slovakia 1–2 Ukraine | 43 910 | 21/06/2024 15:00 |\\\\n| Cologne Stadium | Belgium 2–0 Romania | 42 535 | 22/06/2024 21:00 |\\\\n| Frankfurt Arena | Slovakia 1–1 Romania | 45 033 | 26/06/2024 18:00 |\\\\n| Stuttgart Arena | Ukraine 0–0 Belgium | 54 000 | 26/06/2024 18:00 | [...] | Stadium | Fixture | Attendance | Date (local time) |\\\\n ---  --- |\\\\n| Stuttgart Arena | Slovenia 1–1 Denmark | 54 000 | 16/06/2024 18:00 |\\\\n| Arena AufSchalke | Serbia 0–1 England | 48 953 | 16/06/2024 21:00 |\\\\n| Munich Football Arena | Slovenia 1–1 Serbia | 63 028 | 20/06/2024 15:00 |\\\\n| Frankfurt Arena | Denmark 1–1 England | 46 177 | 20/06/2024 18:00 |\\\\n| Cologne Stadium | England 0–0 Slovenia | 41 536 | 25/06/2024 21:00 | [...] | Stadium | Fixture | Attendance | Date (local time) |\\\\n ---  --- |\\\\n| Olympiastadion Berlin | Spain 3–0 Croatia | 68 844 | 15/06/2024 18:00 |\\\\n| BVB Stadion Dortmund | Italy 2–1 Albania | 60 512 | 15/06/2024 21:00 |\\\\n| Volksparkstadion Hamburg | Croatia 2–2 Albania | 46 784 | 19/06/2024 15:00 |\\\\n| Arena AufSchalke | Spain 1–0 Italy | 49 528 | 20/06/2024 21:00 |\\\\n| Düsseldorf Arena | Albania 0–1 Spain | 46 586 | 24/06/2024 21:00 |\\\\n| Leipzig Stadium | Croatia 1–1 Italy | 38 322 | 24/06/2024 21:00 |\", \"score\": 0.74652773}]', name='tavily_search_results_json', id='cdbe4a8b-e7a7-4624-aa63-557485e1f25c', tool_call_id='call_4J37p8ga01EZ2cs1o4cU63hi', artifact={'query': 'Soccer Eurocup 2024 location', 'follow_up_questions': None, 'answer': None, 'images': [], 'results': [{'url': 'https://www.foxsports.com/stories/soccer/euro-2024-locations-host-cities-and-stadiums', 'title': 'Euro 2024 locations, host cities and stadiums - FOX Sports', 'content': 'Below is a list of the 2024 host cities as well as their stadiums and capacities:\\n\\n Berlin: Olympiastadion Berlin (Capacity: 74,461)\\n Cologne: Cologne Stadium (49,827)\\n Dortmund: BVB Stadion Dortmund (65,849)\\n Düsseldorf: Düsseldorf Arena (51,031)\\n Gelsenkirchen: Arena AufSchalke (54,740)\\n Frankfurt: Frankfurt Arena (54,697)\\n Hamburg: Volksparkstadion (52,245)\\n Leipzig: Leipzig Stadium (42,959)\\n Munich: Fußball Arena München (70,076)\\n Stuttgart: Stuttgart Arena (54,906)', 'score': 0.8377398, 'raw_content': None}, {'url': 'https://en.wikipedia.org/wiki/UEFA_Euro_2024', 'title': 'UEFA Euro 2024', 'content': \"| Gelsenkirchen | Berlin  Munich  Dortmund  Gelsenkirchen  Stuttgart  Hamburg  Düsseldorf  Cologne  Frankfurt  Leipzig  class=notpageimage| Location of the host cities of the UEFA Euro 2024. | | |\\n| Arena AufSchalke |\\n| Capacity: 50,000 |\\n|  |\\n| Hamburg |\\n| Volksparkstadion (Volksparkstadion Hamburg) |\\n| Capacity: 49,000 |\\n|  |\\n| Düsseldorf | Frankfurt | Cologne | Leipzig | [...] Of the ten venues selected for Euro 2024, nine were used for the 2006 FIFA World Cup: Berlin, Dortmund, Munich, Cologne, Stuttgart, Hamburg, Leipzig, Frankfurt, and Gelsenkirchen. Düsseldorf, which was not used in 2006 but had previously been used for the 1974 FIFA World Cup and UEFA Euro 1988, served as the tenth venue; conversely, Hanover, Nuremberg and Kaiserslautern, host cities in 2006 (in addition to 1974 and 1988 in Hanover's case), were not used for this championship. Munich, the site [...] Various other stadiums, such as those in Bremen and Mönchengladbach, were not selected. The area with the highest number of venues at UEFA Euro 2024 was the Rhine-Ruhr metropolitan region in the state of North Rhine-Westphalia, with four of the ten host cities (Dortmund, Düsseldorf, Gelsenkirchen and Cologne).\", 'score': 0.767847, 'raw_content': None}, {'url': 'https://stadiumdb.com/tournaments/euro/2024', 'title': 'Euro 2024 Stadiums: Germany – StadiumDB.com', 'content': '| Stadium | Fixture | Attendance | Date (local time) |\\n ---  --- |\\n| Munich Football Arena | Romania 3–0 Ukraine | 61 591 | 17/06/2024 15:00 |\\n| Frankfurt Arena | Belgium 0–1 Slovakia | 45 181 | 17/06/2024 18:00 |\\n| Düsseldorf Arena | Slovakia 1–2 Ukraine | 43 910 | 21/06/2024 15:00 |\\n| Cologne Stadium | Belgium 2–0 Romania | 42 535 | 22/06/2024 21:00 |\\n| Frankfurt Arena | Slovakia 1–1 Romania | 45 033 | 26/06/2024 18:00 |\\n| Stuttgart Arena | Ukraine 0–0 Belgium | 54 000 | 26/06/2024 18:00 | [...] | Stadium | Fixture | Attendance | Date (local time) |\\n ---  --- |\\n| Stuttgart Arena | Slovenia 1–1 Denmark | 54 000 | 16/06/2024 18:00 |\\n| Arena AufSchalke | Serbia 0–1 England | 48 953 | 16/06/2024 21:00 |\\n| Munich Football Arena | Slovenia 1–1 Serbia | 63 028 | 20/06/2024 15:00 |\\n| Frankfurt Arena | Denmark 1–1 England | 46 177 | 20/06/2024 18:00 |\\n| Cologne Stadium | England 0–0 Slovenia | 41 536 | 25/06/2024 21:00 | [...] | Stadium | Fixture | Attendance | Date (local time) |\\n ---  --- |\\n| Olympiastadion Berlin | Spain 3–0 Croatia | 68 844 | 15/06/2024 18:00 |\\n| BVB Stadion Dortmund | Italy 2–1 Albania | 60 512 | 15/06/2024 21:00 |\\n| Volksparkstadion Hamburg | Croatia 2–2 Albania | 46 784 | 19/06/2024 15:00 |\\n| Arena AufSchalke | Spain 1–0 Italy | 49 528 | 20/06/2024 21:00 |\\n| Düsseldorf Arena | Albania 0–1 Spain | 46 586 | 24/06/2024 21:00 |\\n| Leipzig Stadium | Croatia 1–1 Italy | 38 322 | 24/06/2024 21:00 |', 'score': 0.74652773, 'raw_content': None}], 'response_time': 1.58, 'request_id': '62736c6a-302b-4ab9-84d4-f1d54f664953'}),\n",
       " AIMessage(content='The Soccer Eurocup 2024 will be played in multiple cities in Germany. The host cities and their stadiums include:\\n1. Berlin: Olympiastadion Berlin (Capacity: 74,461)\\n2. Cologne: Cologne Stadium (Capacity: 49,827)\\n3. Dortmund: BVB Stadion Dortmund (Capacity: 65,849)\\n4. Düsseldorf: Düsseldorf Arena (Capacity: 51,031)\\n5. Gelsenkirchen: Arena AufSchalke (Capacity: 54,740)\\n6. Frankfurt: Frankfurt Arena (Capacity: 54,697)\\n7. Hamburg: Volksparkstadion (Capacity: 52,245)\\n8. Leipzig: Leipzig Stadium (Capacity: 42,959)\\n9. Munich: Fußball Arena München (Capacity: 70,076)\\n10. Stuttgart: Stuttgart Arena (Capacity: 54,906)\\n\\nYou can find more information about the Euro 2024 locations and host cities on [FOX Sports](https://www.foxsports.com/stories/soccer/euro-2024-locations-host-cities-and-stadiums).', additional_kwargs={'refusal': None}, response_metadata={'token_usage': {'completion_tokens': 231, 'prompt_tokens': 1326, 'total_tokens': 1557, 'completion_tokens_details': {'accepted_prediction_tokens': 0, 'audio_tokens': 0, 'reasoning_tokens': 0, 'rejected_prediction_tokens': 0}, 'prompt_tokens_details': {'audio_tokens': 0, 'cached_tokens': 0}}, 'model_name': 'gpt-3.5-turbo-0125', 'system_fingerprint': None, 'id': 'chatcmpl-CCKgMbkzx9JkN5Ybv7JfBLBECunNd', 'service_tier': 'default', 'finish_reason': 'stop', 'logprobs': None}, id='run--cb0d2a13-1bd4-4ea1-90c0-2bf921d17dc5-0', usage_metadata={'input_tokens': 1326, 'output_tokens': 231, 'total_tokens': 1557, 'input_token_details': {'audio': 0, 'cache_read': 0}, 'output_token_details': {'audio': 0, 'reasoning': 0}})]"
      ]
     },
     "execution_count": 13,
     "metadata": {},
     "output_type": "execute_result"
    }
   ],
   "source": [
    "from langchain_core.messages import HumanMessage\n",
    "\n",
    "response = agent_executor.invoke({\n",
    "    \"messages\": [HumanMessage(content=\"Where is the soccer Eurocup 2024 played?\")]\n",
    "})\n",
    "\n",
    "response[\"messages\"]\n"
   ]
  },
  {
   "cell_type": "code",
   "execution_count": 14,
   "id": "e99c6ee2",
   "metadata": {},
   "outputs": [
    {
     "data": {
      "text/plain": [
       "[HumanMessage(content='What is LangChain give with details?', additional_kwargs={}, response_metadata={}, id='ee4f106e-c351-4bdb-8edc-0ae3d27cb6c1'),\n",
       " AIMessage(content='', additional_kwargs={'tool_calls': [{'id': 'call_r1LP9jR2pYBDoLlWYLUsNBUV', 'function': {'arguments': '{\"query\":\"LangChain\"}', 'name': 'tavily_search_results_json'}, 'type': 'function'}], 'refusal': None}, response_metadata={'token_usage': {'completion_tokens': 19, 'prompt_tokens': 89, 'total_tokens': 108, 'completion_tokens_details': {'accepted_prediction_tokens': 0, 'audio_tokens': 0, 'reasoning_tokens': 0, 'rejected_prediction_tokens': 0}, 'prompt_tokens_details': {'audio_tokens': 0, 'cached_tokens': 0}}, 'model_name': 'gpt-3.5-turbo-0125', 'system_fingerprint': None, 'id': 'chatcmpl-CCKhG4XgwZw8WVk11XnLgMk8oiX5f', 'service_tier': 'default', 'finish_reason': 'tool_calls', 'logprobs': None}, id='run--912826a2-15d2-4323-b9df-0069ca032c33-0', tool_calls=[{'name': 'tavily_search_results_json', 'args': {'query': 'LangChain'}, 'id': 'call_r1LP9jR2pYBDoLlWYLUsNBUV', 'type': 'tool_call'}], usage_metadata={'input_tokens': 89, 'output_tokens': 19, 'total_tokens': 108, 'input_token_details': {'audio': 0, 'cache_read': 0}, 'output_token_details': {'audio': 0, 'reasoning': 0}}),\n",
       " ToolMessage(content='[{\"title\": \"What Is LangChain? | IBM\", \"url\": \"https://www.ibm.com/think/topics/langchain\", \"content\": \"LangChain is an open source orchestration framework for application development using large language models (LLMs). Available in both Python- and Javascript-based libraries, LangChain’s tools and APIs simplify the process of building LLM-driven applications like chatbots and AI agents. [...] LangChain is essentially a library of abstractions for Python and Javascript, representing common steps and concepts necessary to work with language models. These modular components—like functions and object classes—serve as the building blocks of generative AI programs. They can be “_chained_” together to create applications, minimizing the amount of code and fine understanding required to execute complex NLP tasks. Though LangChain’s abstracted approach may limit the extent to which an expert [...] LangChain serves as a generic interface for nearly any LLM, providing a centralized development environment to build LLM applications and integrate them with external data sources and software workflows. LangChain’s module-based approach allows developers and data scientists to dynamically compare different prompts and even different foundation models with minimal need to rewrite code. This modular environment also allows for programs that use multiple LLMs: for example, an application that\", \"score\": 0.9294982}, {\"title\": \"What is LangChain? Key Features, Tools, and Use Cases\", \"url\": \"https://datasciencedojo.com/blog/what-is-langchain/\", \"content\": \"LangChain is a versatile framework that can be used across different fields like content creation, customer service, and data analytics. It can generate high-quality content and social media posts, power intelligent chatbots, and assist in extracting insights from large datasets to predict trends. Thus, it can meet diverse business needs and drive innovation across industries. [...] In this blog, we will explore what is LangChain, its key features, benefits, and practical use cases. We will also delve into related tools like LlamaIndex, LangGraph, and LangSmith to provide a comprehensive understanding of this powerful framework.\\\\n\\\\nWhat is LangChain?\\\\n\\\\nLangChain is an innovative open-source framework crafted for developing powerful applications using LLMs. These advanced AI systems, trained on massive datasets, can produce human-like text with remarkable accuracy. [...] For instance, if you’re uncertain which language model will give you the best results, LangChain allows you to quickly swap between different models without rewriting your entire codebase. This ease of experimentation is useful in AI development where rapid iteration and testing are crucial.\", \"score\": 0.9035075}, {\"title\": \"What is LangChain?\", \"url\": \"https://aws.amazon.com/what-is/langchain/\", \"content\": \"LangChain provides AI developers with tools to connect language models with external data sources. It is open-source and supported by an active community. Organizations can use LangChain for free and receive support from other developers proficient in the framework.\\\\n\\\\nHow does LangChain work?\\\\n\\\\nWith LangChain, developers can adapt a language model flexibly to specific business contexts by designating steps required to produce the desired outcome.\\\\n\\\\n### Chains [...] . LLMs are large deep-learning models pre-trained on large amounts of data that can generate responses to user queries—for example, answering questions or creating images from text-based prompts. LangChain provides tools and abstractions to improve the customization, accuracy, and relevancy of the information the models generate. For example, developers can use LangChain components to build new prompt chains or customize existing templates. LangChain also includes components that allow LLMs\", \"score\": 0.8412138}]', name='tavily_search_results_json', id='799a0901-b0d2-4dfa-967d-405780ed2830', tool_call_id='call_r1LP9jR2pYBDoLlWYLUsNBUV', artifact={'query': 'LangChain', 'follow_up_questions': None, 'answer': None, 'images': [], 'results': [{'url': 'https://www.ibm.com/think/topics/langchain', 'title': 'What Is LangChain? | IBM', 'content': 'LangChain is an open source orchestration framework for application development using large language models (LLMs). Available in both Python- and Javascript-based libraries, LangChain’s tools and APIs simplify the process of building LLM-driven applications like chatbots and AI agents. [...] LangChain is essentially a library of abstractions for Python and Javascript, representing common steps and concepts necessary to work with language models. These modular components—like functions and object classes—serve as the building blocks of generative AI programs. They can be “_chained_” together to create applications, minimizing the amount of code and fine understanding required to execute complex NLP tasks. Though LangChain’s abstracted approach may limit the extent to which an expert [...] LangChain serves as a generic interface for nearly any LLM, providing a centralized development environment to build LLM applications and integrate them with external data sources and software workflows. LangChain’s module-based approach allows developers and data scientists to dynamically compare different prompts and even different foundation models with minimal need to rewrite code. This modular environment also allows for programs that use multiple LLMs: for example, an application that', 'score': 0.9294982, 'raw_content': None}, {'url': 'https://datasciencedojo.com/blog/what-is-langchain/', 'title': 'What is LangChain? Key Features, Tools, and Use Cases', 'content': 'LangChain is a versatile framework that can be used across different fields like content creation, customer service, and data analytics. It can generate high-quality content and social media posts, power intelligent chatbots, and assist in extracting insights from large datasets to predict trends. Thus, it can meet diverse business needs and drive innovation across industries. [...] In this blog, we will explore what is LangChain, its key features, benefits, and practical use cases. We will also delve into related tools like LlamaIndex, LangGraph, and LangSmith to provide a comprehensive understanding of this powerful framework.\\n\\nWhat is LangChain?\\n\\nLangChain is an innovative open-source framework crafted for developing powerful applications using LLMs. These advanced AI systems, trained on massive datasets, can produce human-like text with remarkable accuracy. [...] For instance, if you’re uncertain which language model will give you the best results, LangChain allows you to quickly swap between different models without rewriting your entire codebase. This ease of experimentation is useful in AI development where rapid iteration and testing are crucial.', 'score': 0.9035075, 'raw_content': None}, {'url': 'https://aws.amazon.com/what-is/langchain/', 'title': 'What is LangChain?', 'content': 'LangChain provides AI developers with tools to connect language models with external data sources. It is open-source and supported by an active community. Organizations can use LangChain for free and receive support from other developers proficient in the framework.\\n\\nHow does LangChain work?\\n\\nWith LangChain, developers can adapt a language model flexibly to specific business contexts by designating steps required to produce the desired outcome.\\n\\n### Chains [...] . LLMs are large deep-learning models pre-trained on large amounts of data that can generate responses to user queries—for example, answering questions or creating images from text-based prompts. LangChain provides tools and abstractions to improve the customization, accuracy, and relevancy of the information the models generate. For example, developers can use LangChain components to build new prompt chains or customize existing templates. LangChain also includes components that allow LLMs', 'score': 0.8412138, 'raw_content': None}], 'response_time': 1.73, 'request_id': '57e67252-920c-450e-9fe7-9336ca6ca543'}),\n",
       " AIMessage(content='LangChain is an open-source orchestration framework for application development using large language models (LLMs). It provides tools and APIs that simplify the process of building LLM-driven applications like chatbots and AI agents. LangChain consists of Python- and Javascript-based libraries that offer modular components, such as functions and object classes, which serve as the building blocks of generative AI programs. These components can be \"chained\" together to create applications, reducing the amount of code and expertise needed to execute complex natural language processing (NLP) tasks.\\n\\nKey Features of LangChain:\\n1. Versatile Framework: LangChain can be used in various fields like content creation, customer service, and data analytics.\\n2. High-Quality Content Generation: It can generate high-quality content and social media posts.\\n3. Intelligent Chatbots: LangChain powers intelligent chatbots that can interact with users effectively.\\n4. Data Analytics: It assists in extracting insights from large datasets to predict trends.\\n\\nBenefits of LangChain:\\n1. Rapid Experimentation: Developers can quickly swap between different language models to find the best results without rewriting the entire codebase.\\n2. Centralized Development Environment: LangChain provides a centralized environment to build LLM applications and integrate them with external data sources and software workflows.\\n3. Modularity: The modular approach of LangChain allows developers to compare different prompts and foundation models dynamically with minimal code rewriting.\\n4. Active Community Support: LangChain is open-source and supported by an active community of developers, enabling organizations to use it for free and receive support from proficient developers.\\n\\nFor more detailed information, you can visit the [official IBM page on LangChain](https://www.ibm.com/think/topics/langchain) and [Data Science Dojo\\'s blog on LangChain](https://datasciencedojo.com/blog/what-is-langchain/).', additional_kwargs={'refusal': None}, response_metadata={'token_usage': {'completion_tokens': 373, 'prompt_tokens': 874, 'total_tokens': 1247, 'completion_tokens_details': {'accepted_prediction_tokens': 0, 'audio_tokens': 0, 'reasoning_tokens': 0, 'rejected_prediction_tokens': 0}, 'prompt_tokens_details': {'audio_tokens': 0, 'cached_tokens': 0}}, 'model_name': 'gpt-3.5-turbo-0125', 'system_fingerprint': None, 'id': 'chatcmpl-CCKhJukAMjZZnK8Ih6jADLrOf74PU', 'service_tier': 'default', 'finish_reason': 'stop', 'logprobs': None}, id='run--c3ad60ba-68c5-4d47-a7a3-953a01d75d40-0', usage_metadata={'input_tokens': 874, 'output_tokens': 373, 'total_tokens': 1247, 'input_token_details': {'audio': 0, 'cache_read': 0}, 'output_token_details': {'audio': 0, 'reasoning': 0}})]"
      ]
     },
     "execution_count": 14,
     "metadata": {},
     "output_type": "execute_result"
    }
   ],
   "source": [
    "from langchain_core.messages import HumanMessage\n",
    "\n",
    "response = agent_executor.invoke({\n",
    "    \"messages\": [HumanMessage(content=\"What is LangChain give with details?\")]\n",
    "})\n",
    "\n",
    "response[\"messages\"]\n"
   ]
  },
  {
   "cell_type": "code",
   "execution_count": 15,
   "id": "81e7d855",
   "metadata": {},
   "outputs": [
    {
     "name": "stdout",
     "output_type": "stream",
     "text": [
      "{'agent': {'messages': [AIMessage(content='', additional_kwargs={'tool_calls': [{'id': 'call_rfy5jAIyQnPjkPKHYRNQt0O1', 'function': {'arguments': '{\"query\":\"2024 Eurocup final match date and location\"}', 'name': 'tavily_search_results_json'}, 'type': 'function'}], 'refusal': None}, response_metadata={'token_usage': {'completion_tokens': 26, 'prompt_tokens': 96, 'total_tokens': 122, 'completion_tokens_details': {'accepted_prediction_tokens': 0, 'audio_tokens': 0, 'reasoning_tokens': 0, 'rejected_prediction_tokens': 0}, 'prompt_tokens_details': {'audio_tokens': 0, 'cached_tokens': 0}}, 'model_name': 'gpt-3.5-turbo-0125', 'system_fingerprint': None, 'id': 'chatcmpl-CCKiZJ6rgfPfbxZkcw082QBiSqTVx', 'service_tier': 'default', 'finish_reason': 'tool_calls', 'logprobs': None}, id='run--7ec1cca4-90c0-4e40-afa0-88bf8c456689-0', tool_calls=[{'name': 'tavily_search_results_json', 'args': {'query': '2024 Eurocup final match date and location'}, 'id': 'call_rfy5jAIyQnPjkPKHYRNQt0O1', 'type': 'tool_call'}], usage_metadata={'input_tokens': 96, 'output_tokens': 26, 'total_tokens': 122, 'input_token_details': {'audio': 0, 'cache_read': 0}, 'output_token_details': {'audio': 0, 'reasoning': 0}})]}}\n",
      "----\n",
      "{'tools': {'messages': [ToolMessage(content='[{\"title\": \"UEFA EURO 2024 results: When and where were the matches?\", \"url\": \"https://fr.uefa.com/euro2024/news/0275-151eb1c333ea-d30deec67b13-1000--uefa-euro-2024-fixtures-when-and-where-are-the-matches/\", \"content\": \"UEFA EURO 2024 kicked off on Friday 14 June and ended with the final between Spain and England in Berlin on Sunday 14 July. See the dates, venues and schedule.\\\\n\\\\nContenu médias de l\\'article\\\\n\\\\nImage 35: Spain\\'s wing wizards Nico Williams and Lamine Yamal celebrate after the final\\\\n\\\\nSpain\\'s wing wizards Nico Williams and Lamine Yamal celebrate after the final AFP via Getty Images\\\\n\\\\nCorps de l\\'article\\\\n\\\\nCheck out the full list of UEFA EURO 2024 fixtures and results. [...] Full match schedule \\\\nEURO 2024 final result\\\\n\\\\nSunday 14 July\\\\n\\\\nSpain 2-1 England (Berlin)\\\\n\\\\nFinal highlights: Spain 2-1 England\\\\n\\\\nSemi-final results\\\\n\\\\nTuesday 9 July\\\\n\\\\nSpain 2-1 France (Munich)\\\\n\\\\nWednesday 10 July\\\\n\\\\nNetherlands 1-2 England (Dortmund)\\\\n\\\\nQuarter-final results\\\\n\\\\nFriday 5 July\\\\n\\\\nSpain 2-1 Germany (aet) (Stuttgart)\\\\n\\\\nPortugal 0-0 France (aet, 3-5 on pens) (Hamburg)\\\\n\\\\nSaturday 6 July\\\\n\\\\nEngland 1-1 Switzerland (aet, 5-3 on pens) (Düsseldorf)\\\\n\\\\nNetherlands 2-1 Türkiye (Berlin)\", \"score\": 0.8266142}, {\"title\": \"2024 Euro Schedule\", \"url\": \"https://www.roadtrips.com/soccer-packages/2024-euro/schedule/\", \"content\": \"| 5-Jul | 45 | Winner Match 39 | Winner Match 37 | 1800 | Stuttgart |\\\\n| 5-Jul | 46 | Winner Match 41 | Winner Match 42 | 2100 | Hamburg |\\\\n| 6-Jul | 47 | Winner Match 43 | Winner Match 44 | 2100 | Berlin |\\\\n| 6-Jul | 48 | Winner Match 40 | Winner Match 38 | 1800 | Düsseldorf |\\\\n| Semi-Finals |\\\\n| 9-Jul | 49 | Winner Match 45 | Winner Match 46 | 2100 | Munich |\\\\n| 10-Jul | 50 | Winner Match 47 | Winner Match 48 | 2100 | Dortmund |\\\\n| Final | [...] | Date | Match | Team 1 | Team 2 | Time | City |\\\\n ---  ---  --- |\\\\n| 14-Jun | 1 | Germany | Scotland | 2100 | Munich |\\\\n| 15-Jun | 2 | Hungary | Switzerland | 1500 | Cologne |\\\\n| 15-Jun | 3 | Spain | Croatia | 1800 | Berlin |\\\\n| 15-Jun | 4 | Italy | Albania | 2100 | Dortmund |\\\\n| 16-Jun | 5 | Serbia | England | 2100 | Gelsenkirchen |\\\\n| 16-Jun | 6 | Slovenia | Denmark | 1800 | Stuttgart |\\\\n| 16-Jun | 7 | Playoff Winner A | Netherlands | 1500 | Hamburg | [...] | 22-Jun | 24 | Playoff Winner C | Czechia | 1500 | Hamburg |\\\\n| 23-Jun | 25 | Switzerland | Germany | 2100 | Frankfurt |\\\\n| 23-Jun | 26 | Scotland | Hungary | 2100 | Stuttgart |\\\\n| 24-Jun | 27 | Albania | Spain | 2100 | Düsseldorf |\\\\n| 24-Jun | 28 | Croatia | Italy | 2100 | Leipzig |\\\\n| 25-Jun | 29 | England | Slovenia | 2100 | Cologne |\\\\n| 25-Jun | 30 | Denmark | Serbia | 2100 | Munich |\\\\n| 25-Jun | 31 | Netherlands | Austria | 1800 | Berlin |\", \"score\": 0.78944516}, {\"title\": \"When and where were the matches? | UEFA EURO 2024\", \"url\": \"https://www.uefa.com/euro2024/news/0275-151eb1c333ea-d30deec67b13-1000--euro-2024-match-schedule/\", \"content\": \"Skip to main content\\\\n\\\\nUEFA EURO 2024 - UEFA EURO 2024 results: When and where were the matches? - News\\\\n\\\\nGo back\\\\n\\\\n# UEFA EURO 2024 results: When and where were the matches?\\\\n\\\\nSunday, July 14, 2024\\\\n\\\\n## Article summary\\\\n\\\\nUEFA EURO 2024 kicked off on Friday 14 June and ended with the final between Spain and England in Berlin on Sunday 14 July. See the dates, venues and schedule.\\\\n\\\\n## Article top media content\", \"score\": 0.7869018}]', name='tavily_search_results_json', id='beaf9598-a3f0-4111-a73d-d3635587227c', tool_call_id='call_rfy5jAIyQnPjkPKHYRNQt0O1', artifact={'query': '2024 Eurocup final match date and location', 'follow_up_questions': None, 'answer': None, 'images': [], 'results': [{'url': 'https://fr.uefa.com/euro2024/news/0275-151eb1c333ea-d30deec67b13-1000--uefa-euro-2024-fixtures-when-and-where-are-the-matches/', 'title': 'UEFA EURO 2024 results: When and where were the matches?', 'content': \"UEFA EURO 2024 kicked off on Friday 14 June and ended with the final between Spain and England in Berlin on Sunday 14 July. See the dates, venues and schedule.\\n\\nContenu médias de l'article\\n\\nImage 35: Spain's wing wizards Nico Williams and Lamine Yamal celebrate after the final\\n\\nSpain's wing wizards Nico Williams and Lamine Yamal celebrate after the final AFP via Getty Images\\n\\nCorps de l'article\\n\\nCheck out the full list of UEFA EURO 2024 fixtures and results. [...] Full match schedule \\nEURO 2024 final result\\n\\nSunday 14 July\\n\\nSpain 2-1 England (Berlin)\\n\\nFinal highlights: Spain 2-1 England\\n\\nSemi-final results\\n\\nTuesday 9 July\\n\\nSpain 2-1 France (Munich)\\n\\nWednesday 10 July\\n\\nNetherlands 1-2 England (Dortmund)\\n\\nQuarter-final results\\n\\nFriday 5 July\\n\\nSpain 2-1 Germany (aet) (Stuttgart)\\n\\nPortugal 0-0 France (aet, 3-5 on pens) (Hamburg)\\n\\nSaturday 6 July\\n\\nEngland 1-1 Switzerland (aet, 5-3 on pens) (Düsseldorf)\\n\\nNetherlands 2-1 Türkiye (Berlin)\", 'score': 0.8266142, 'raw_content': None}, {'url': 'https://www.roadtrips.com/soccer-packages/2024-euro/schedule/', 'title': '2024 Euro Schedule', 'content': '| 5-Jul | 45 | Winner Match 39 | Winner Match 37 | 1800 | Stuttgart |\\n| 5-Jul | 46 | Winner Match 41 | Winner Match 42 | 2100 | Hamburg |\\n| 6-Jul | 47 | Winner Match 43 | Winner Match 44 | 2100 | Berlin |\\n| 6-Jul | 48 | Winner Match 40 | Winner Match 38 | 1800 | Düsseldorf |\\n| Semi-Finals |\\n| 9-Jul | 49 | Winner Match 45 | Winner Match 46 | 2100 | Munich |\\n| 10-Jul | 50 | Winner Match 47 | Winner Match 48 | 2100 | Dortmund |\\n| Final | [...] | Date | Match | Team 1 | Team 2 | Time | City |\\n ---  ---  --- |\\n| 14-Jun | 1 | Germany | Scotland | 2100 | Munich |\\n| 15-Jun | 2 | Hungary | Switzerland | 1500 | Cologne |\\n| 15-Jun | 3 | Spain | Croatia | 1800 | Berlin |\\n| 15-Jun | 4 | Italy | Albania | 2100 | Dortmund |\\n| 16-Jun | 5 | Serbia | England | 2100 | Gelsenkirchen |\\n| 16-Jun | 6 | Slovenia | Denmark | 1800 | Stuttgart |\\n| 16-Jun | 7 | Playoff Winner A | Netherlands | 1500 | Hamburg | [...] | 22-Jun | 24 | Playoff Winner C | Czechia | 1500 | Hamburg |\\n| 23-Jun | 25 | Switzerland | Germany | 2100 | Frankfurt |\\n| 23-Jun | 26 | Scotland | Hungary | 2100 | Stuttgart |\\n| 24-Jun | 27 | Albania | Spain | 2100 | Düsseldorf |\\n| 24-Jun | 28 | Croatia | Italy | 2100 | Leipzig |\\n| 25-Jun | 29 | England | Slovenia | 2100 | Cologne |\\n| 25-Jun | 30 | Denmark | Serbia | 2100 | Munich |\\n| 25-Jun | 31 | Netherlands | Austria | 1800 | Berlin |', 'score': 0.78944516, 'raw_content': None}, {'url': 'https://www.uefa.com/euro2024/news/0275-151eb1c333ea-d30deec67b13-1000--euro-2024-match-schedule/', 'title': 'When and where were the matches? | UEFA EURO 2024', 'content': 'Skip to main content\\n\\nUEFA EURO 2024 - UEFA EURO 2024 results: When and where were the matches? - News\\n\\nGo back\\n\\n# UEFA EURO 2024 results: When and where were the matches?\\n\\nSunday, July 14, 2024\\n\\n## Article summary\\n\\nUEFA EURO 2024 kicked off on Friday 14 June and ended with the final between Spain and England in Berlin on Sunday 14 July. See the dates, venues and schedule.\\n\\n## Article top media content', 'score': 0.7869018, 'raw_content': None}], 'response_time': 2.39, 'request_id': 'b205e22f-6cb4-4bf5-8e7f-5f3ea9aa0c80'})]}}\n",
      "----\n",
      "{'agent': {'messages': [AIMessage(content='The 2024 Eurocup final match will be held on Sunday, July 14, 2024, in Berlin.', additional_kwargs={'refusal': None}, response_metadata={'token_usage': {'completion_tokens': 26, 'prompt_tokens': 1234, 'total_tokens': 1260, 'completion_tokens_details': {'accepted_prediction_tokens': 0, 'audio_tokens': 0, 'reasoning_tokens': 0, 'rejected_prediction_tokens': 0}, 'prompt_tokens_details': {'audio_tokens': 0, 'cached_tokens': 0}}, 'model_name': 'gpt-3.5-turbo-0125', 'system_fingerprint': None, 'id': 'chatcmpl-CCKid72YxFH302jrrt1rWvfSjXI68', 'service_tier': 'default', 'finish_reason': 'stop', 'logprobs': None}, id='run--6e634549-5177-47c1-a458-0f650e8a4005-0', usage_metadata={'input_tokens': 1234, 'output_tokens': 26, 'total_tokens': 1260, 'input_token_details': {'audio': 0, 'cache_read': 0}, 'output_token_details': {'audio': 0, 'reasoning': 0}})]}}\n",
      "----\n"
     ]
    }
   ],
   "source": [
    "for chunk in agent_executor.stream(\n",
    "    {\"messages\": [HumanMessage(content=\"When and where will it be the 2024 Eurocup final match?\")]}\n",
    "):\n",
    "    print(chunk)\n",
    "    print(\"----\")\n"
   ]
  },
  {
   "cell_type": "markdown",
   "id": "7ef49c0a",
   "metadata": {},
   "source": [
    "# Adding Memory\n",
    "\n",
    "• Adding memory in LangGraph is very similar to what we did with LangChain.\n"
   ]
  },
  {
   "cell_type": "code",
   "execution_count": 16,
   "id": "3579aa6a",
   "metadata": {},
   "outputs": [],
   "source": [
    "from langgraph.checkpoint.memory import MemorySaver\n",
    "\n",
    "memory = MemorySaver()"
   ]
  },
  {
   "cell_type": "code",
   "execution_count": 17,
   "id": "149797fb",
   "metadata": {},
   "outputs": [],
   "source": [
    "agent_executor = create_react_agent(llm, tools, checkpointer=memory)\n",
    "\n",
    "config = {\"configurable\": {\"thread_id\": \"001\"}}"
   ]
  },
  {
   "cell_type": "code",
   "execution_count": 19,
   "id": "9b3d11e3",
   "metadata": {},
   "outputs": [
    {
     "name": "stdout",
     "output_type": "stream",
     "text": [
      "{'agent': {'messages': [AIMessage(content='', additional_kwargs={'tool_calls': [{'id': 'call_dwTB9yE6i5iKkatDIABonLtz', 'function': {'arguments': '{\"query\":\"2024 Eurocup final match date and location\"}', 'name': 'tavily_search_results_json'}, 'type': 'function'}], 'refusal': None}, response_metadata={'token_usage': {'completion_tokens': 26, 'prompt_tokens': 96, 'total_tokens': 122, 'completion_tokens_details': {'accepted_prediction_tokens': 0, 'audio_tokens': 0, 'reasoning_tokens': 0, 'rejected_prediction_tokens': 0}, 'prompt_tokens_details': {'audio_tokens': 0, 'cached_tokens': 0}}, 'model_name': 'gpt-3.5-turbo-0125', 'system_fingerprint': None, 'id': 'chatcmpl-CCKlgYzgUAaXGI5nGzUzQjJ5HlkDY', 'service_tier': 'default', 'finish_reason': 'tool_calls', 'logprobs': None}, id='run--591e203e-8858-40bd-8795-7889412e4d7b-0', tool_calls=[{'name': 'tavily_search_results_json', 'args': {'query': '2024 Eurocup final match date and location'}, 'id': 'call_dwTB9yE6i5iKkatDIABonLtz', 'type': 'tool_call'}], usage_metadata={'input_tokens': 96, 'output_tokens': 26, 'total_tokens': 122, 'input_token_details': {'audio': 0, 'cache_read': 0}, 'output_token_details': {'audio': 0, 'reasoning': 0}})]}}\n",
      "----\n",
      "{'tools': {'messages': [ToolMessage(content='[{\"title\": \"UEFA EURO 2024 results: When and where were the matches?\", \"url\": \"https://fr.uefa.com/euro2024/news/0275-151eb1c333ea-d30deec67b13-1000--uefa-euro-2024-fixtures-when-and-where-are-the-matches/\", \"content\": \"UEFA EURO 2024 kicked off on Friday 14 June and ended with the final between Spain and England in Berlin on Sunday 14 July. See the dates, venues and schedule.\\\\n\\\\nContenu médias de l\\'article\\\\n\\\\nImage 35: Spain\\'s wing wizards Nico Williams and Lamine Yamal celebrate after the final\\\\n\\\\nSpain\\'s wing wizards Nico Williams and Lamine Yamal celebrate after the final AFP via Getty Images\\\\n\\\\nCorps de l\\'article\\\\n\\\\nCheck out the full list of UEFA EURO 2024 fixtures and results. [...] Full match schedule \\\\nEURO 2024 final result\\\\n\\\\nSunday 14 July\\\\n\\\\nSpain 2-1 England (Berlin)\\\\n\\\\nFinal highlights: Spain 2-1 England\\\\n\\\\nSemi-final results\\\\n\\\\nTuesday 9 July\\\\n\\\\nSpain 2-1 France (Munich)\\\\n\\\\nWednesday 10 July\\\\n\\\\nNetherlands 1-2 England (Dortmund)\\\\n\\\\nQuarter-final results\\\\n\\\\nFriday 5 July\\\\n\\\\nSpain 2-1 Germany (aet) (Stuttgart)\\\\n\\\\nPortugal 0-0 France (aet, 3-5 on pens) (Hamburg)\\\\n\\\\nSaturday 6 July\\\\n\\\\nEngland 1-1 Switzerland (aet, 5-3 on pens) (Düsseldorf)\\\\n\\\\nNetherlands 2-1 Türkiye (Berlin)\", \"score\": 0.8266142}, {\"title\": \"2024 Euro Schedule\", \"url\": \"https://www.roadtrips.com/soccer-packages/2024-euro/schedule/\", \"content\": \"| 5-Jul | 45 | Winner Match 39 | Winner Match 37 | 1800 | Stuttgart |\\\\n| 5-Jul | 46 | Winner Match 41 | Winner Match 42 | 2100 | Hamburg |\\\\n| 6-Jul | 47 | Winner Match 43 | Winner Match 44 | 2100 | Berlin |\\\\n| 6-Jul | 48 | Winner Match 40 | Winner Match 38 | 1800 | Düsseldorf |\\\\n| Semi-Finals |\\\\n| 9-Jul | 49 | Winner Match 45 | Winner Match 46 | 2100 | Munich |\\\\n| 10-Jul | 50 | Winner Match 47 | Winner Match 48 | 2100 | Dortmund |\\\\n| Final | [...] | Date | Match | Team 1 | Team 2 | Time | City |\\\\n ---  ---  --- |\\\\n| 14-Jun | 1 | Germany | Scotland | 2100 | Munich |\\\\n| 15-Jun | 2 | Hungary | Switzerland | 1500 | Cologne |\\\\n| 15-Jun | 3 | Spain | Croatia | 1800 | Berlin |\\\\n| 15-Jun | 4 | Italy | Albania | 2100 | Dortmund |\\\\n| 16-Jun | 5 | Serbia | England | 2100 | Gelsenkirchen |\\\\n| 16-Jun | 6 | Slovenia | Denmark | 1800 | Stuttgart |\\\\n| 16-Jun | 7 | Playoff Winner A | Netherlands | 1500 | Hamburg | [...] | 22-Jun | 24 | Playoff Winner C | Czechia | 1500 | Hamburg |\\\\n| 23-Jun | 25 | Switzerland | Germany | 2100 | Frankfurt |\\\\n| 23-Jun | 26 | Scotland | Hungary | 2100 | Stuttgart |\\\\n| 24-Jun | 27 | Albania | Spain | 2100 | Düsseldorf |\\\\n| 24-Jun | 28 | Croatia | Italy | 2100 | Leipzig |\\\\n| 25-Jun | 29 | England | Slovenia | 2100 | Cologne |\\\\n| 25-Jun | 30 | Denmark | Serbia | 2100 | Munich |\\\\n| 25-Jun | 31 | Netherlands | Austria | 1800 | Berlin |\", \"score\": 0.78944516}, {\"title\": \"When and where were the matches? | UEFA EURO 2024\", \"url\": \"https://www.uefa.com/euro2024/news/0275-151eb1c333ea-d30deec67b13-1000--euro-2024-match-schedule/\", \"content\": \"Skip to main content\\\\n\\\\nUEFA EURO 2024 - UEFA EURO 2024 results: When and where were the matches? - News\\\\n\\\\nGo back\\\\n\\\\n# UEFA EURO 2024 results: When and where were the matches?\\\\n\\\\nSunday, July 14, 2024\\\\n\\\\n## Article summary\\\\n\\\\nUEFA EURO 2024 kicked off on Friday 14 June and ended with the final between Spain and England in Berlin on Sunday 14 July. See the dates, venues and schedule.\\\\n\\\\n## Article top media content\", \"score\": 0.7869018}]', name='tavily_search_results_json', id='ae603557-a0f8-4678-a078-aa5b6273c301', tool_call_id='call_dwTB9yE6i5iKkatDIABonLtz', artifact={'query': '2024 Eurocup final match date and location', 'follow_up_questions': None, 'answer': None, 'images': [], 'results': [{'url': 'https://fr.uefa.com/euro2024/news/0275-151eb1c333ea-d30deec67b13-1000--uefa-euro-2024-fixtures-when-and-where-are-the-matches/', 'title': 'UEFA EURO 2024 results: When and where were the matches?', 'content': \"UEFA EURO 2024 kicked off on Friday 14 June and ended with the final between Spain and England in Berlin on Sunday 14 July. See the dates, venues and schedule.\\n\\nContenu médias de l'article\\n\\nImage 35: Spain's wing wizards Nico Williams and Lamine Yamal celebrate after the final\\n\\nSpain's wing wizards Nico Williams and Lamine Yamal celebrate after the final AFP via Getty Images\\n\\nCorps de l'article\\n\\nCheck out the full list of UEFA EURO 2024 fixtures and results. [...] Full match schedule \\nEURO 2024 final result\\n\\nSunday 14 July\\n\\nSpain 2-1 England (Berlin)\\n\\nFinal highlights: Spain 2-1 England\\n\\nSemi-final results\\n\\nTuesday 9 July\\n\\nSpain 2-1 France (Munich)\\n\\nWednesday 10 July\\n\\nNetherlands 1-2 England (Dortmund)\\n\\nQuarter-final results\\n\\nFriday 5 July\\n\\nSpain 2-1 Germany (aet) (Stuttgart)\\n\\nPortugal 0-0 France (aet, 3-5 on pens) (Hamburg)\\n\\nSaturday 6 July\\n\\nEngland 1-1 Switzerland (aet, 5-3 on pens) (Düsseldorf)\\n\\nNetherlands 2-1 Türkiye (Berlin)\", 'score': 0.8266142, 'raw_content': None}, {'url': 'https://www.roadtrips.com/soccer-packages/2024-euro/schedule/', 'title': '2024 Euro Schedule', 'content': '| 5-Jul | 45 | Winner Match 39 | Winner Match 37 | 1800 | Stuttgart |\\n| 5-Jul | 46 | Winner Match 41 | Winner Match 42 | 2100 | Hamburg |\\n| 6-Jul | 47 | Winner Match 43 | Winner Match 44 | 2100 | Berlin |\\n| 6-Jul | 48 | Winner Match 40 | Winner Match 38 | 1800 | Düsseldorf |\\n| Semi-Finals |\\n| 9-Jul | 49 | Winner Match 45 | Winner Match 46 | 2100 | Munich |\\n| 10-Jul | 50 | Winner Match 47 | Winner Match 48 | 2100 | Dortmund |\\n| Final | [...] | Date | Match | Team 1 | Team 2 | Time | City |\\n ---  ---  --- |\\n| 14-Jun | 1 | Germany | Scotland | 2100 | Munich |\\n| 15-Jun | 2 | Hungary | Switzerland | 1500 | Cologne |\\n| 15-Jun | 3 | Spain | Croatia | 1800 | Berlin |\\n| 15-Jun | 4 | Italy | Albania | 2100 | Dortmund |\\n| 16-Jun | 5 | Serbia | England | 2100 | Gelsenkirchen |\\n| 16-Jun | 6 | Slovenia | Denmark | 1800 | Stuttgart |\\n| 16-Jun | 7 | Playoff Winner A | Netherlands | 1500 | Hamburg | [...] | 22-Jun | 24 | Playoff Winner C | Czechia | 1500 | Hamburg |\\n| 23-Jun | 25 | Switzerland | Germany | 2100 | Frankfurt |\\n| 23-Jun | 26 | Scotland | Hungary | 2100 | Stuttgart |\\n| 24-Jun | 27 | Albania | Spain | 2100 | Düsseldorf |\\n| 24-Jun | 28 | Croatia | Italy | 2100 | Leipzig |\\n| 25-Jun | 29 | England | Slovenia | 2100 | Cologne |\\n| 25-Jun | 30 | Denmark | Serbia | 2100 | Munich |\\n| 25-Jun | 31 | Netherlands | Austria | 1800 | Berlin |', 'score': 0.78944516, 'raw_content': None}, {'url': 'https://www.uefa.com/euro2024/news/0275-151eb1c333ea-d30deec67b13-1000--euro-2024-match-schedule/', 'title': 'When and where were the matches? | UEFA EURO 2024', 'content': 'Skip to main content\\n\\nUEFA EURO 2024 - UEFA EURO 2024 results: When and where were the matches? - News\\n\\nGo back\\n\\n# UEFA EURO 2024 results: When and where were the matches?\\n\\nSunday, July 14, 2024\\n\\n## Article summary\\n\\nUEFA EURO 2024 kicked off on Friday 14 June and ended with the final between Spain and England in Berlin on Sunday 14 July. See the dates, venues and schedule.\\n\\n## Article top media content', 'score': 0.7869018, 'raw_content': None}], 'response_time': 1.21, 'request_id': '6452f260-1754-4bbf-a153-d7544efdf865'})]}}\n",
      "----\n",
      "{'agent': {'messages': [AIMessage(content='The 2024 Eurocup final match will be held in Berlin on Sunday, July 14, 2024.', additional_kwargs={'refusal': None}, response_metadata={'token_usage': {'completion_tokens': 25, 'prompt_tokens': 1234, 'total_tokens': 1259, 'completion_tokens_details': {'accepted_prediction_tokens': 0, 'audio_tokens': 0, 'reasoning_tokens': 0, 'rejected_prediction_tokens': 0}, 'prompt_tokens_details': {'audio_tokens': 0, 'cached_tokens': 0}}, 'model_name': 'gpt-3.5-turbo-0125', 'system_fingerprint': None, 'id': 'chatcmpl-CCKlkYCnAdsFatWhPkF4yRFq8Pax8', 'service_tier': 'default', 'finish_reason': 'stop', 'logprobs': None}, id='run--be620beb-1d94-4abb-bf3f-8ec0ff4c601e-0', usage_metadata={'input_tokens': 1234, 'output_tokens': 25, 'total_tokens': 1259, 'input_token_details': {'audio': 0, 'cache_read': 0}, 'output_token_details': {'audio': 0, 'reasoning': 0}})]}}\n",
      "----\n"
     ]
    }
   ],
   "source": [
    "for chunk in agent_executor.stream(\n",
    "    {\"messages\": [HumanMessage(content=\"When and where will it be the 2024 Eurocup final match?\")]} , config\n",
    "):\n",
    "    print(chunk)\n",
    "    print(\"----\")\n"
   ]
  },
  {
   "cell_type": "code",
   "execution_count": 20,
   "id": "5ba5ca7a",
   "metadata": {},
   "outputs": [
    {
     "name": "stdout",
     "output_type": "stream",
     "text": [
      "{'agent': {'messages': [AIMessage(content=\"The top stars of the winning team in the 2024 Eurocup final match were Spain's wing wizards Nico Williams and Lamine Yamal.\", additional_kwargs={'refusal': None}, response_metadata={'token_usage': {'completion_tokens': 30, 'prompt_tokens': 1276, 'total_tokens': 1306, 'completion_tokens_details': {'accepted_prediction_tokens': 0, 'audio_tokens': 0, 'reasoning_tokens': 0, 'rejected_prediction_tokens': 0}, 'prompt_tokens_details': {'audio_tokens': 0, 'cached_tokens': 0}}, 'model_name': 'gpt-3.5-turbo-0125', 'system_fingerprint': None, 'id': 'chatcmpl-CCKmMw2bUqEQfhsqNas6LWAV6zfdV', 'service_tier': 'default', 'finish_reason': 'stop', 'logprobs': None}, id='run--31c3000b-3dac-43d8-b318-040e3ab9819b-0', usage_metadata={'input_tokens': 1276, 'output_tokens': 30, 'total_tokens': 1306, 'input_token_details': {'audio': 0, 'cache_read': 0}, 'output_token_details': {'audio': 0, 'reasoning': 0}})]}}\n",
      "----\n"
     ]
    }
   ],
   "source": [
    "for chunk in agent_executor.stream(\n",
    "    {\"messages\": [HumanMessage(content=\"Who were the top stars of that winner team?\")]} , config\n",
    "):\n",
    "    print(chunk)\n",
    "    print(\"----\")\n"
   ]
  },
  {
   "cell_type": "code",
   "execution_count": 22,
   "id": "31d07df9",
   "metadata": {},
   "outputs": [
    {
     "name": "stdout",
     "output_type": "stream",
     "text": [
      "{'agent': {'messages': [AIMessage(content='We were talking about the Spanish national soccer team, which emerged victorious in the 2024 Eurocup final match.', additional_kwargs={'refusal': None}, response_metadata={'token_usage': {'completion_tokens': 24, 'prompt_tokens': 1321, 'total_tokens': 1345, 'completion_tokens_details': {'accepted_prediction_tokens': 0, 'audio_tokens': 0, 'reasoning_tokens': 0, 'rejected_prediction_tokens': 0}, 'prompt_tokens_details': {'audio_tokens': 0, 'cached_tokens': 0}}, 'model_name': 'gpt-3.5-turbo-0125', 'system_fingerprint': None, 'id': 'chatcmpl-CCKoARhgZIT7R6A7wP4HUqmPDyiwZ', 'service_tier': 'default', 'finish_reason': 'stop', 'logprobs': None}, id='run--a067966b-5a13-4e6f-874e-493b4add7826-0', usage_metadata={'input_tokens': 1321, 'output_tokens': 24, 'total_tokens': 1345, 'input_token_details': {'audio': 0, 'cache_read': 0}, 'output_token_details': {'audio': 0, 'reasoning': 0}})]}}\n",
      "----\n"
     ]
    }
   ],
   "source": [
    "config = {\"configurable\": {\"thread_id\": \"001\"}}\n",
    "\n",
    "for chunk in agent_executor.stream(\n",
    "    {\"messages\": [HumanMessage(content=\"About what soccer team we were talking?\")]}, \n",
    "    config\n",
    "):\n",
    "    print(chunk)\n",
    "    print(\"----\")\n"
   ]
  },
  {
   "cell_type": "code",
   "execution_count": 21,
   "id": "56de9048",
   "metadata": {},
   "outputs": [
    {
     "name": "stdout",
     "output_type": "stream",
     "text": [
      "{'agent': {'messages': [AIMessage(content=\"I'll find that out for you. Let me search for the relevant information.\", additional_kwargs={'tool_calls': [{'id': 'call_uNzqoMWfg5WqAVtHUMWQx6OZ', 'function': {'arguments': '{\"query\":\"soccer team\"}', 'name': 'tavily_search_results_json'}, 'type': 'function'}], 'refusal': None}, response_metadata={'token_usage': {'completion_tokens': 37, 'prompt_tokens': 89, 'total_tokens': 126, 'completion_tokens_details': {'accepted_prediction_tokens': 0, 'audio_tokens': 0, 'reasoning_tokens': 0, 'rejected_prediction_tokens': 0}, 'prompt_tokens_details': {'audio_tokens': 0, 'cached_tokens': 0}}, 'model_name': 'gpt-3.5-turbo-0125', 'system_fingerprint': None, 'id': 'chatcmpl-CCKnf9LC28jnusy4a4d4f4unlHKmK', 'service_tier': 'default', 'finish_reason': 'tool_calls', 'logprobs': None}, id='run--6f3351f9-7fce-4ba2-9c9b-b43763e0c1c4-0', tool_calls=[{'name': 'tavily_search_results_json', 'args': {'query': 'soccer team'}, 'id': 'call_uNzqoMWfg5WqAVtHUMWQx6OZ', 'type': 'tool_call'}], usage_metadata={'input_tokens': 89, 'output_tokens': 37, 'total_tokens': 126, 'input_token_details': {'audio': 0, 'cache_read': 0}, 'output_token_details': {'audio': 0, 'reasoning': 0}})]}}\n",
      "----\n",
      "{'tools': {'messages': [ToolMessage(content='[{\"title\": \"Football club (association football) - Wikipedia\", \"url\": \"https://en.wikipedia.org/wiki/Football_club_(association_football)\", \"content\": \"Sports entity that participates in association football games and competitions\\\\n\\\\nIn association football, a football club (or association football club, alternatively soccer club) is a sports club that acts as an entity through which association football teams organise their sporting activities. The club can exist either as an independent unit or as part of a larger sports organization as a subsidiary of the parent club or organization.\", \"score\": 0.6141863}, {\"title\": \"A to Z: All Teams\", \"url\": \"https://www.subsidesports.com/uk/a-z-listings/\", \"content\": \"1. FC Union Berlin\\\\n       Bayern Munich\\\\n       Borussia Dortmund\\\\n       Eintracht Frankfurt\\\\n       RB Leipzig\\\\n       St. Pauli\\\\n       VfB Stuttgart\\\\n       View all >\\\\n\\\\n###### Serie A\\\\n\\\\n       AC Milan\\\\n       AS Roma\\\\n       Fiorentina\\\\n       Inter Milan\\\\n       Juventus\\\\n       Lazio\\\\n       Napoli\\\\n       View all >\\\\n\\\\n###### La Liga\\\\n\\\\n       Athletic Bilbao\\\\n       Atletico Madrid\\\\n       Barcelona\\\\n       Real Madrid\\\\n       Sevilla\\\\n       Valencia\\\\n       Villarreal\\\\n       View all > [...] AC Milan\\\\n   AS Roma\\\\n   Fiorentina\\\\n   Inter Milan\\\\n   Juventus\\\\n   Lazio\\\\n   Napoli\\\\n   View all >\\\\n\\\\n###### La Liga\\\\n\\\\n   Athletic Bilbao\\\\n   Atletico Madrid\\\\n   Barcelona\\\\n   Real Madrid\\\\n   Sevilla\\\\n   Valencia\\\\n   Villarreal\\\\n   View all >\\\\n\\\\n###### Ligue 1\\\\n\\\\n   AS Monaco\\\\n   Bordeaux\\\\n   Nice\\\\n   Olympique Lyonnais\\\\n   Olympique Marseille\\\\n   Paris Saint Germain\\\\n   Saint Etienne\\\\n   View all >\\\\n\\\\n###### Latin America [...] Latest\\\\n   Offers\\\\n   Euro 2024\\\\n   UCL\\\\n   Club\\\\n   National\\\\n   Patches & Printing\\\\n   Products\\\\n   Players\\\\n   Authentics\\\\n   Retro\\\\n\\\\n###### Premier League\\\\n\\\\n   Arsenal\\\\n   Chelsea\\\\n   Liverpool\\\\n   Manchester City\\\\n   Manchester United\\\\n   Tottenham Hotspur\\\\n   West Ham United\\\\n   View all >\\\\n\\\\n###### Bundesliga\\\\n\\\\n   1. FC Union Berlin\\\\n   Bayern Munich\\\\n   Borussia Dortmund\\\\n   Eintracht Frankfurt\\\\n   RB Leipzig\\\\n   St. Pauli\\\\n   VfB Stuttgart\\\\n   View all >\\\\n\\\\n###### Serie A\", \"score\": 0.5473921}, {\"title\": \"Professional World Football (Soccer) Clubs and Leagues\", \"url\": \"https://www.ducksters.com/sports/professional_football_leagues.php\", \"content\": \"Arsenal\\\\n Aston Villa\\\\n Brighton & Hove Albion\\\\n Burnley\\\\n Chelsea\\\\n Crystal Palace\\\\n Everton\\\\n Fulham\\\\n Leeds United\\\\n Leicester City\\\\n Liverpool\\\\n Manchester City\\\\n Manchester United\\\\n Newcastle United\\\\n Sheffield United\\\\n Southampton\\\\n Tottenham Hotspur\\\\n West Bromwich Albion\\\\n West Ham United\\\\n Wolverhampton Wanderers\\\\n\\\\nLa Liga - The top professional football league in Spain, La Liga is home to Real Madrid, the club with the most European Cups.\\\\n  \\\\n  \\\\nList of Teams in La Liga (2020-2021) [...] Alaves\\\\n Athletic Bilbao\\\\n Atletico Madrid\\\\n Barcelona\\\\n Cadiz\\\\n Celta Vigo\\\\n Eibar\\\\n Getafe\\\\n Granada\\\\n Huesca\\\\n Levante\\\\n Osasuna\\\\n Real Betis\\\\n Real Madrid\\\\n Real Sociedad\\\\n Sevilla\\\\n Valencia\\\\n Valladolid\\\\n Villarreal\\\\n TBD\\\\n\\\\nSerie A - This is the top professional football league in Italy. It is the home to such powerhouse teams as Milan and Juventus.\\\\n  \\\\n  \\\\nList of teams in Serie A (2011) [...] The top soccer league in the United States is Major League Soccer or the MLS. The MLS is a relatively new league with the first season taking place in 1996. Some of the top world players have come to the MLS near the end of their careers including David Beckham, Zlatan Ibrahimovic, Wayne Rooney, Thierry Henry, and Lionel Messi. The league is divided into two conferences, an Eastern and a Western, with 29 total teams (2023).\\\\n  \\\\n  \\\\nMore Soccer Links:\", \"score\": 0.53269315}]', name='tavily_search_results_json', id='f554716b-37ae-4df1-9899-11b0015fd15d', tool_call_id='call_uNzqoMWfg5WqAVtHUMWQx6OZ', artifact={'query': 'soccer team', 'follow_up_questions': None, 'answer': None, 'images': [], 'results': [{'url': 'https://en.wikipedia.org/wiki/Football_club_(association_football)', 'title': 'Football club (association football) - Wikipedia', 'content': 'Sports entity that participates in association football games and competitions\\n\\nIn association football, a football club (or association football club, alternatively soccer club) is a sports club that acts as an entity through which association football teams organise their sporting activities. The club can exist either as an independent unit or as part of a larger sports organization as a subsidiary of the parent club or organization.', 'score': 0.6141863, 'raw_content': None}, {'url': 'https://www.subsidesports.com/uk/a-z-listings/', 'title': 'A to Z: All Teams', 'content': '1. FC Union Berlin\\n       Bayern Munich\\n       Borussia Dortmund\\n       Eintracht Frankfurt\\n       RB Leipzig\\n       St. Pauli\\n       VfB Stuttgart\\n       View all >\\n\\n###### Serie A\\n\\n       AC Milan\\n       AS Roma\\n       Fiorentina\\n       Inter Milan\\n       Juventus\\n       Lazio\\n       Napoli\\n       View all >\\n\\n###### La Liga\\n\\n       Athletic Bilbao\\n       Atletico Madrid\\n       Barcelona\\n       Real Madrid\\n       Sevilla\\n       Valencia\\n       Villarreal\\n       View all > [...] AC Milan\\n   AS Roma\\n   Fiorentina\\n   Inter Milan\\n   Juventus\\n   Lazio\\n   Napoli\\n   View all >\\n\\n###### La Liga\\n\\n   Athletic Bilbao\\n   Atletico Madrid\\n   Barcelona\\n   Real Madrid\\n   Sevilla\\n   Valencia\\n   Villarreal\\n   View all >\\n\\n###### Ligue 1\\n\\n   AS Monaco\\n   Bordeaux\\n   Nice\\n   Olympique Lyonnais\\n   Olympique Marseille\\n   Paris Saint Germain\\n   Saint Etienne\\n   View all >\\n\\n###### Latin America [...] Latest\\n   Offers\\n   Euro 2024\\n   UCL\\n   Club\\n   National\\n   Patches & Printing\\n   Products\\n   Players\\n   Authentics\\n   Retro\\n\\n###### Premier League\\n\\n   Arsenal\\n   Chelsea\\n   Liverpool\\n   Manchester City\\n   Manchester United\\n   Tottenham Hotspur\\n   West Ham United\\n   View all >\\n\\n###### Bundesliga\\n\\n   1. FC Union Berlin\\n   Bayern Munich\\n   Borussia Dortmund\\n   Eintracht Frankfurt\\n   RB Leipzig\\n   St. Pauli\\n   VfB Stuttgart\\n   View all >\\n\\n###### Serie A', 'score': 0.5473921, 'raw_content': None}, {'url': 'https://www.ducksters.com/sports/professional_football_leagues.php', 'title': 'Professional World Football (Soccer) Clubs and Leagues', 'content': 'Arsenal\\n Aston Villa\\n Brighton & Hove Albion\\n Burnley\\n Chelsea\\n Crystal Palace\\n Everton\\n Fulham\\n Leeds United\\n Leicester City\\n Liverpool\\n Manchester City\\n Manchester United\\n Newcastle United\\n Sheffield United\\n Southampton\\n Tottenham Hotspur\\n West Bromwich Albion\\n West Ham United\\n Wolverhampton Wanderers\\n\\nLa Liga - The top professional football league in Spain, La Liga is home to Real Madrid, the club with the most European Cups.\\n  \\n  \\nList of Teams in La Liga (2020-2021) [...] Alaves\\n Athletic Bilbao\\n Atletico Madrid\\n Barcelona\\n Cadiz\\n Celta Vigo\\n Eibar\\n Getafe\\n Granada\\n Huesca\\n Levante\\n Osasuna\\n Real Betis\\n Real Madrid\\n Real Sociedad\\n Sevilla\\n Valencia\\n Valladolid\\n Villarreal\\n TBD\\n\\nSerie A - This is the top professional football league in Italy. It is the home to such powerhouse teams as Milan and Juventus.\\n  \\n  \\nList of teams in Serie A (2011) [...] The top soccer league in the United States is Major League Soccer or the MLS. The MLS is a relatively new league with the first season taking place in 1996. Some of the top world players have come to the MLS near the end of their careers including David Beckham, Zlatan Ibrahimovic, Wayne Rooney, Thierry Henry, and Lionel Messi. The league is divided into two conferences, an Eastern and a Western, with 29 total teams (2023).\\n  \\n  \\nMore Soccer Links:', 'score': 0.53269315, 'raw_content': None}], 'response_time': 1.86, 'request_id': '6760c35a-6a3f-453d-a8cc-4fee8f83559d'})]}}\n",
      "----\n",
      "{'agent': {'messages': [AIMessage(content='The search results provide information about soccer teams in various leagues such as the Premier League, Serie A, La Liga, and more. Could you please specify which team we were discussing so I can provide more specific details about that team?', additional_kwargs={'refusal': None}, response_metadata={'token_usage': {'completion_tokens': 47, 'prompt_tokens': 1082, 'total_tokens': 1129, 'completion_tokens_details': {'accepted_prediction_tokens': 0, 'audio_tokens': 0, 'reasoning_tokens': 0, 'rejected_prediction_tokens': 0}, 'prompt_tokens_details': {'audio_tokens': 0, 'cached_tokens': 0}}, 'model_name': 'gpt-3.5-turbo-0125', 'system_fingerprint': None, 'id': 'chatcmpl-CCKniubo8BAI4NmWW5yvWXsqro7C2', 'service_tier': 'default', 'finish_reason': 'stop', 'logprobs': None}, id='run--21c14048-c03c-4809-804f-30d980e4e8a0-0', usage_metadata={'input_tokens': 1082, 'output_tokens': 47, 'total_tokens': 1129, 'input_token_details': {'audio': 0, 'cache_read': 0}, 'output_token_details': {'audio': 0, 'reasoning': 0}})]}}\n",
      "----\n"
     ]
    }
   ],
   "source": [
    "config = {\"configurable\": {\"thread_id\": \"002\"}}\n",
    "\n",
    "for chunk in agent_executor.stream(\n",
    "    {\"messages\": [HumanMessage(content=\"About what soccer team we were talking?\")]}, \n",
    "    config\n",
    "):\n",
    "    print(chunk)\n",
    "    print(\"----\")\n"
   ]
  }
 ],
 "metadata": {
  "kernelspec": {
   "display_name": "llmapp",
   "language": "python",
   "name": "python3"
  },
  "language_info": {
   "codemirror_mode": {
    "name": "ipython",
    "version": 3
   },
   "file_extension": ".py",
   "mimetype": "text/x-python",
   "name": "python",
   "nbconvert_exporter": "python",
   "pygments_lexer": "ipython3",
   "version": "3.11.13"
  }
 },
 "nbformat": 4,
 "nbformat_minor": 5
}

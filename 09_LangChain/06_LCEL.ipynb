{
 "cells": [
  {
   "cell_type": "code",
   "execution_count": 1,
   "id": "ef0dbbb3",
   "metadata": {},
   "outputs": [],
   "source": [
    "import os\n",
    "from dotenv import load_dotenv, find_dotenv\n",
    "_ = load_dotenv(find_dotenv())\n",
    "openai_api_key = os.environ[\"OPENAI_API_KEY\"]"
   ]
  },
  {
   "cell_type": "code",
   "execution_count": 2,
   "id": "8107dfca",
   "metadata": {},
   "outputs": [],
   "source": [
    "from langchain_openai import ChatOpenAI\n",
    "\n",
    "chatModel = ChatOpenAI(model=\"gpt-3.5-turbo-0125\")"
   ]
  },
  {
   "cell_type": "code",
   "execution_count": 3,
   "id": "7a1b2965",
   "metadata": {},
   "outputs": [],
   "source": [
    "from langchain_core.output_parsers import StrOutputParser\n",
    "from langchain_core.prompts import ChatPromptTemplate\n",
    "\n",
    "prompt = ChatPromptTemplate.from_template(\"tell me a curious fact about {politician}\")\n",
    "\n",
    "chain = prompt | chatModel | StrOutputParser()"
   ]
  },
  {
   "cell_type": "code",
   "execution_count": 5,
   "id": "1469a424",
   "metadata": {},
   "outputs": [
    {
     "data": {
      "text/plain": [
       "\"One curious fact about Mustafa Kemal Atatürk is that he was known for his love of animals, particularly cats. He had a number of cats that he kept as pets and was often seen feeding and playing with them. Atatürk's fondness for cats is still remembered and celebrated in Turkey today.\""
      ]
     },
     "execution_count": 5,
     "metadata": {},
     "output_type": "execute_result"
    }
   ],
   "source": [
    "chain.invoke({\"politician\": \"Mustafa Kemal Atatürk\"})\n"
   ]
  },
  {
   "cell_type": "markdown",
   "id": "0267a38f",
   "metadata": {},
   "source": [
    "# lagecy chain\n"
   ]
  },
  {
   "cell_type": "code",
   "execution_count": 6,
   "id": "4bf85976",
   "metadata": {},
   "outputs": [
    {
     "name": "stderr",
     "output_type": "stream",
     "text": [
      "C:\\Users\\caner\\AppData\\Local\\Temp\\ipykernel_26988\\1951077084.py:5: LangChainDeprecationWarning: The class `LLMChain` was deprecated in LangChain 0.1.17 and will be removed in 1.0. Use :meth:`~RunnableSequence, e.g., `prompt | llm`` instead.\n",
      "  traditional_chain = LLMChain(\n"
     ]
    },
    {
     "data": {
      "text/plain": [
       "'One curious fact about Mauro Icardi is that he was named the youngest captain in the history of Inter Milan at the age of 22. This was a significant achievement for the Argentine striker, showcasing his leadership qualities and maturity at a young age.'"
      ]
     },
     "execution_count": 6,
     "metadata": {},
     "output_type": "execute_result"
    }
   ],
   "source": [
    "from langchain.chains import LLMChain\n",
    "\n",
    "prompt = ChatPromptTemplate.from_template(\"tell me a curious fact about {soccer_player}\")\n",
    "\n",
    "traditional_chain = LLMChain(\n",
    "    llm=chatModel,\n",
    "    prompt=prompt\n",
    ")\n",
    "\n",
    "traditional_chain.predict(soccer_player=\"Icardi\")"
   ]
  },
  {
   "cell_type": "code",
   "execution_count": 7,
   "id": "e77efe98",
   "metadata": {},
   "outputs": [
    {
     "data": {
      "text/plain": [
       "'Ronaldo has a genetic condition that causes his muscles to grow abnormally large, leading to his incredible stamina, speed, and strength on the soccer field.'"
      ]
     },
     "execution_count": 7,
     "metadata": {},
     "output_type": "execute_result"
    }
   ],
   "source": [
    "chain = prompt | chatModel | StrOutputParser()\n",
    "\n",
    "chain.invoke({\"soccer_player\": \"Ronaldo\"})"
   ]
  },
  {
   "cell_type": "code",
   "execution_count": 11,
   "id": "94ba5497",
   "metadata": {},
   "outputs": [
    {
     "data": {
      "text/plain": [
       "'One curious fact about Cristiano Ronaldo is that before becoming a professional footballer, he worked as a telemarketer for a time. This job helped him improve his communication skills and ability to handle rejection, which ultimately benefitted him in his career on the field.'"
      ]
     },
     "execution_count": 11,
     "metadata": {},
     "output_type": "execute_result"
    }
   ],
   "source": [
    "prompt = ChatPromptTemplate.from_template(\"tell me a curious fact about {Football_player}\")\n",
    "\n",
    "output_parser = StrOutputParser()\n",
    "\n",
    "chain = prompt | chatModel | output_parser\n",
    "\n",
    "chain.invoke({\"Football_player\": \"Ronaldo\"})"
   ]
  },
  {
   "cell_type": "code",
   "execution_count": 13,
   "id": "c100c67e",
   "metadata": {},
   "outputs": [
    {
     "name": "stdout",
     "output_type": "stream",
     "text": [
      "One curious fact about Ronaldo is that he has his own museum called the \"Ronaldo Cr7 Museum\" in his hometown of Funchal, Madeira, Portugal. The museum displays various memorabilia, trophies, and achievements from his career, showcasing his rise to success in the world of football."
     ]
    }
   ],
   "source": [
    "for s in chain.stream({\"Football_player\": \"Ronaldo\"}):\n",
    "    print(s, end=\"\", flush=True)"
   ]
  },
  {
   "cell_type": "code",
   "execution_count": 14,
   "id": "29780d50",
   "metadata": {},
   "outputs": [
    {
     "data": {
      "text/plain": [
       "['Ronaldo is known for his exceptional physical condition, including his low body fat percentage and incredible speed and agility. This is partly due to his strict training regimen, which includes a dedicated focus on exercise, nutrition, and recovery.',\n",
       " 'One curious fact about Lionel Messi is that he was diagnosed with a growth hormone deficiency as a child, which stunted his growth and almost ended his football career before it even began. He required expensive medical treatment that his family could not afford, but FC Barcelona offered to pay for his treatment in exchange for Messi moving to Spain to join their youth academy. This decision ultimately led to Messi becoming one of the greatest footballers of all time.']"
      ]
     },
     "execution_count": 14,
     "metadata": {},
     "output_type": "execute_result"
    }
   ],
   "source": [
    "chain.batch([{\"Football_player\": \"Ronaldo\"}, {\"Football_player\": \"Messi\"}])\n"
   ]
  },
  {
   "cell_type": "markdown",
   "id": "83aff548",
   "metadata": {},
   "source": [
    "![alt text](image.png)"
   ]
  }
 ],
 "metadata": {
  "kernelspec": {
   "display_name": "llmapp",
   "language": "python",
   "name": "python3"
  },
  "language_info": {
   "codemirror_mode": {
    "name": "ipython",
    "version": 3
   },
   "file_extension": ".py",
   "mimetype": "text/x-python",
   "name": "python",
   "nbconvert_exporter": "python",
   "pygments_lexer": "ipython3",
   "version": "3.11.13"
  }
 },
 "nbformat": 4,
 "nbformat_minor": 5
}

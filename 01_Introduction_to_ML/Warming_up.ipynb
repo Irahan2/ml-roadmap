{
  "nbformat": 4,
  "nbformat_minor": 0,
  "metadata": {
    "colab": {
      "provenance": []
    },
    "kernelspec": {
      "name": "python3",
      "display_name": "Python 3"
    },
    "language_info": {
      "name": "python"
    }
  },
  "cells": [
    {
      "cell_type": "code",
      "execution_count": 5,
      "metadata": {
        "colab": {
          "base_uri": "https://localhost:8080/"
        },
        "id": "xMmwKn-_38dS",
        "outputId": "dd37b311-c04e-4bf8-9c14-4d67720fa831"
      },
      "outputs": [
        {
          "output_type": "stream",
          "name": "stdout",
          "text": [
            "processor\t: 0\n",
            "vendor_id\t: GenuineIntel\n",
            "cpu family\t: 6\n",
            "model\t\t: 79\n",
            "model name\t: Intel(R) Xeon(R) CPU @ 2.20GHz\n",
            "stepping\t: 0\n",
            "microcode\t: 0xffffffff\n",
            "cpu MHz\t\t: 2199.998\n",
            "cache size\t: 56320 KB\n",
            "physical id\t: 0\n",
            "siblings\t: 2\n",
            "core id\t\t: 0\n",
            "cpu cores\t: 1\n",
            "apicid\t\t: 0\n",
            "initial apicid\t: 0\n",
            "fpu\t\t: yes\n",
            "fpu_exception\t: yes\n",
            "cpuid level\t: 13\n",
            "wp\t\t: yes\n",
            "flags\t\t: fpu vme de pse tsc msr pae mce cx8 apic sep mtrr pge mca cmov pat pse36 clflush mmx fxsr sse sse2 ss ht syscall nx pdpe1gb rdtscp lm constant_tsc rep_good nopl xtopology nonstop_tsc cpuid tsc_known_freq pni pclmulqdq ssse3 fma cx16 pcid sse4_1 sse4_2 x2apic movbe popcnt aes xsave avx f16c rdrand hypervisor lahf_lm abm 3dnowprefetch invpcid_single ssbd ibrs ibpb stibp fsgsbase tsc_adjust bmi1 hle avx2 smep bmi2 erms invpcid rtm rdseed adx smap xsaveopt arat md_clear arch_capabilities\n",
            "bugs\t\t: cpu_meltdown spectre_v1 spectre_v2 spec_store_bypass l1tf mds swapgs taa mmio_stale_data retbleed bhi\n",
            "bogomips\t: 4399.99\n",
            "clflush size\t: 64\n",
            "cache_alignment\t: 64\n",
            "address sizes\t: 46 bits physical, 48 bits virtual\n",
            "power management:\n",
            "\n",
            "processor\t: 1\n",
            "vendor_id\t: GenuineIntel\n",
            "cpu family\t: 6\n",
            "model\t\t: 79\n",
            "model name\t: Intel(R) Xeon(R) CPU @ 2.20GHz\n",
            "stepping\t: 0\n",
            "microcode\t: 0xffffffff\n",
            "cpu MHz\t\t: 2199.998\n",
            "cache size\t: 56320 KB\n",
            "physical id\t: 0\n",
            "siblings\t: 2\n",
            "core id\t\t: 0\n",
            "cpu cores\t: 1\n",
            "apicid\t\t: 1\n",
            "initial apicid\t: 1\n",
            "fpu\t\t: yes\n",
            "fpu_exception\t: yes\n",
            "cpuid level\t: 13\n",
            "wp\t\t: yes\n",
            "flags\t\t: fpu vme de pse tsc msr pae mce cx8 apic sep mtrr pge mca cmov pat pse36 clflush mmx fxsr sse sse2 ss ht syscall nx pdpe1gb rdtscp lm constant_tsc rep_good nopl xtopology nonstop_tsc cpuid tsc_known_freq pni pclmulqdq ssse3 fma cx16 pcid sse4_1 sse4_2 x2apic movbe popcnt aes xsave avx f16c rdrand hypervisor lahf_lm abm 3dnowprefetch invpcid_single ssbd ibrs ibpb stibp fsgsbase tsc_adjust bmi1 hle avx2 smep bmi2 erms invpcid rtm rdseed adx smap xsaveopt arat md_clear arch_capabilities\n",
            "bugs\t\t: cpu_meltdown spectre_v1 spectre_v2 spec_store_bypass l1tf mds swapgs taa mmio_stale_data retbleed bhi\n",
            "bogomips\t: 4399.99\n",
            "clflush size\t: 64\n",
            "cache_alignment\t: 64\n",
            "address sizes\t: 46 bits physical, 48 bits virtual\n",
            "power management:\n",
            "\n"
          ]
        }
      ],
      "source": [
        "# Display CPU information\n",
        "!cat /proc/cpuinfo"
      ]
    },
    {
      "cell_type": "code",
      "source": [
        "# Display memory information\n",
        "!cat /proc/meminfo"
      ],
      "metadata": {
        "colab": {
          "base_uri": "https://localhost:8080/"
        },
        "id": "naoSuGfN5iVr",
        "outputId": "46ce7b9f-4e0d-4406-e672-feb95b3692b4"
      },
      "execution_count": 6,
      "outputs": [
        {
          "output_type": "stream",
          "name": "stdout",
          "text": [
            "MemTotal:       13289424 kB\n",
            "MemFree:         9602228 kB\n",
            "MemAvailable:   12249052 kB\n",
            "Buffers:          106184 kB\n",
            "Cached:          2740400 kB\n",
            "SwapCached:            0 kB\n",
            "Active:           415956 kB\n",
            "Inactive:        3052052 kB\n",
            "Active(anon):       1444 kB\n",
            "Inactive(anon):   622008 kB\n",
            "Active(file):     414512 kB\n",
            "Inactive(file):  2430044 kB\n",
            "Unevictable:           8 kB\n",
            "Mlocked:               8 kB\n",
            "SwapTotal:             0 kB\n",
            "SwapFree:              0 kB\n",
            "Dirty:               196 kB\n",
            "Writeback:             0 kB\n",
            "AnonPages:        621472 kB\n",
            "Mapped:           392888 kB\n",
            "Shmem:              2020 kB\n",
            "KReclaimable:      86412 kB\n",
            "Slab:             121656 kB\n",
            "SReclaimable:      86412 kB\n",
            "SUnreclaim:        35244 kB\n",
            "KernelStack:        5104 kB\n",
            "PageTables:        11424 kB\n",
            "SecPageTables:         0 kB\n",
            "NFS_Unstable:          0 kB\n",
            "Bounce:                0 kB\n",
            "WritebackTmp:          0 kB\n",
            "CommitLimit:     6644712 kB\n",
            "Committed_AS:    2560080 kB\n",
            "VmallocTotal:   34359738367 kB\n",
            "VmallocUsed:       11732 kB\n",
            "VmallocChunk:          0 kB\n",
            "Percpu:             1072 kB\n",
            "HardwareCorrupted:     0 kB\n",
            "AnonHugePages:         0 kB\n",
            "ShmemHugePages:        0 kB\n",
            "ShmemPmdMapped:        0 kB\n",
            "FileHugePages:         0 kB\n",
            "FilePmdMapped:         0 kB\n",
            "CmaTotal:              0 kB\n",
            "CmaFree:               0 kB\n",
            "Unaccepted:            0 kB\n",
            "HugePages_Total:       0\n",
            "HugePages_Free:        0\n",
            "HugePages_Rsvd:        0\n",
            "HugePages_Surp:        0\n",
            "Hugepagesize:       2048 kB\n",
            "Hugetlb:               0 kB\n",
            "DirectMap4k:       64304 kB\n",
            "DirectMap2M:     5175296 kB\n",
            "DirectMap1G:    10485760 kB\n"
          ]
        }
      ]
    },
    {
      "cell_type": "code",
      "source": [],
      "metadata": {
        "id": "81EjkgUB5iYZ"
      },
      "execution_count": null,
      "outputs": []
    },
    {
      "cell_type": "markdown",
      "source": [
        "Installing Libraires\n"
      ],
      "metadata": {
        "id": "NEDNJNyW6FoC"
      }
    },
    {
      "cell_type": "code",
      "source": [
        "# Install pandas library\n",
        "! pip install pandas"
      ],
      "metadata": {
        "colab": {
          "base_uri": "https://localhost:8080/"
        },
        "id": "pKzyhvFX5iaf",
        "outputId": "492b762a-422d-48ac-e2f7-95ae796a698c"
      },
      "execution_count": 7,
      "outputs": [
        {
          "output_type": "stream",
          "name": "stdout",
          "text": [
            "Requirement already satisfied: pandas in /usr/local/lib/python3.12/dist-packages (2.2.2)\n",
            "Requirement already satisfied: numpy>=1.26.0 in /usr/local/lib/python3.12/dist-packages (from pandas) (2.0.2)\n",
            "Requirement already satisfied: python-dateutil>=2.8.2 in /usr/local/lib/python3.12/dist-packages (from pandas) (2.9.0.post0)\n",
            "Requirement already satisfied: pytz>=2020.1 in /usr/local/lib/python3.12/dist-packages (from pandas) (2025.2)\n",
            "Requirement already satisfied: tzdata>=2022.7 in /usr/local/lib/python3.12/dist-packages (from pandas) (2025.2)\n",
            "Requirement already satisfied: six>=1.5 in /usr/local/lib/python3.12/dist-packages (from python-dateutil>=2.8.2->pandas) (1.17.0)\n"
          ]
        }
      ]
    },
    {
      "cell_type": "code",
      "source": [
        "# Import pandas library\n",
        "import pandas as pd"
      ],
      "metadata": {
        "id": "1zcoSt696Ygk"
      },
      "execution_count": 8,
      "outputs": []
    },
    {
      "cell_type": "code",
      "source": [
        "# Read the housing.csv file into a pandas DataFrame\n",
        "# This file was not found in the environment, so the code is commented out.\n",
        "# df = pd.read_csv('/content/housing.csv')"
      ],
      "metadata": {
        "id": "gPXssHkM6nef"
      },
      "execution_count": 51,
      "outputs": []
    },
    {
      "cell_type": "code",
      "source": [
        "# Display the first few rows of the DataFrame\n",
        "# This code depends on the housing.csv file which was not found, so it is commented out.\n",
        "# df.head()"
      ],
      "metadata": {
        "id": "Yq5Qwngk6116"
      },
      "execution_count": 52,
      "outputs": []
    },
    {
      "cell_type": "code",
      "source": [
        "# Print a simple message\n",
        "print(\"ML\")"
      ],
      "metadata": {
        "colab": {
          "base_uri": "https://localhost:8080/"
        },
        "id": "saIU5fdJ614u",
        "outputId": "f05fc786-35eb-444c-96b8-e824b8d6aaf2"
      },
      "execution_count": 11,
      "outputs": [
        {
          "output_type": "stream",
          "name": "stdout",
          "text": [
            "ML\n"
          ]
        }
      ]
    },
    {
      "cell_type": "code",
      "source": [
        "# List files in the current directory\n",
        "!ls"
      ],
      "metadata": {
        "colab": {
          "base_uri": "https://localhost:8080/"
        },
        "id": "EgNQLo9K61-z",
        "outputId": "e26ef89e-45ab-49c3-eea0-b85d48e21a4a"
      },
      "execution_count": 12,
      "outputs": [
        {
          "output_type": "stream",
          "name": "stdout",
          "text": [
            "sample_data\n"
          ]
        }
      ]
    },
    {
      "cell_type": "code",
      "source": [
        "# Get two numbers from user input, calculate and print their sum\n",
        "number1 = int(input(\"Give me a number \"))\n",
        "number2 = int(input(\"Give me a number \"))\n",
        "\n",
        "sum = number1 + number2\n",
        "print (sum)"
      ],
      "metadata": {
        "colab": {
          "base_uri": "https://localhost:8080/"
        },
        "id": "XZV314kW7oaK",
        "outputId": "80053710-374d-47d1-adac-94ba526eb875"
      },
      "execution_count": 13,
      "outputs": [
        {
          "output_type": "stream",
          "name": "stdout",
          "text": [
            "Give me a number 2\n",
            "Give me a number 3\n",
            "5\n"
          ]
        }
      ]
    },
    {
      "cell_type": "code",
      "source": [
        " # Changing the data type in python\n",
        "\n",
        " # Assign an integer value to the variable numara\n",
        " numara = 5\n",
        " # Convert the integer to a float and display it (though not assigned back)\n",
        " float(numara)"
      ],
      "metadata": {
        "colab": {
          "base_uri": "https://localhost:8080/"
        },
        "id": "UIAlFQ2N-SZ2",
        "outputId": "b6b27445-0263-4e1c-af11-2682551fb57d"
      },
      "execution_count": 14,
      "outputs": [
        {
          "output_type": "execute_result",
          "data": {
            "text/plain": [
              "5.0"
            ]
          },
          "metadata": {},
          "execution_count": 14
        }
      ]
    },
    {
      "cell_type": "code",
      "source": [
        "# Assign an integer value to x\n",
        "x = 10\n",
        "# Print the value of x\n",
        "print(x)\n",
        "# Print the data type of x\n",
        "type(x)"
      ],
      "metadata": {
        "colab": {
          "base_uri": "https://localhost:8080/"
        },
        "id": "axkeHzybAFg7",
        "outputId": "fb887a52-1738-4f2e-872e-e8cf3f17b7f1"
      },
      "execution_count": 15,
      "outputs": [
        {
          "output_type": "stream",
          "name": "stdout",
          "text": [
            "10\n"
          ]
        },
        {
          "output_type": "execute_result",
          "data": {
            "text/plain": [
              "int"
            ]
          },
          "metadata": {},
          "execution_count": 15
        }
      ]
    },
    {
      "cell_type": "code",
      "source": [
        "# Convert the integer x to a float and assign it to y\n",
        "y = float(x)"
      ],
      "metadata": {
        "id": "AEE_-Hm9AakW"
      },
      "execution_count": 16,
      "outputs": []
    },
    {
      "cell_type": "code",
      "source": [
        "# Print the value of y\n",
        "print(y)"
      ],
      "metadata": {
        "colab": {
          "base_uri": "https://localhost:8080/"
        },
        "id": "qetEKq3MAhvC",
        "outputId": "9fc47516-82eb-4096-f828-856a3a6d7338"
      },
      "execution_count": 17,
      "outputs": [
        {
          "output_type": "stream",
          "name": "stdout",
          "text": [
            "10.0\n"
          ]
        }
      ]
    },
    {
      "cell_type": "code",
      "source": [
        "# Assign a string value to the variable my_string\n",
        "my_string = \"Programming\""
      ],
      "metadata": {
        "id": "oIDDm988AkGB"
      },
      "execution_count": 18,
      "outputs": []
    },
    {
      "cell_type": "code",
      "source": [
        "# Slice the string from index 1 up to (but not including) index 5\n",
        "print(my_string[1:5])    # characters from index 1 to 4 will be sliced"
      ],
      "metadata": {
        "colab": {
          "base_uri": "https://localhost:8080/"
        },
        "id": "jF2_cSIRBnK9",
        "outputId": "32e6a87a-58be-4b38-bd03-9e1152ce3374"
      },
      "execution_count": 19,
      "outputs": [
        {
          "output_type": "stream",
          "name": "stdout",
          "text": [
            "rogr\n"
          ]
        }
      ]
    },
    {
      "cell_type": "code",
      "source": [
        "# Slice the string from index 0 to 10 with a step of 2\n",
        "print(my_string[0:10:2])"
      ],
      "metadata": {
        "colab": {
          "base_uri": "https://localhost:8080/"
        },
        "id": "evHGuYasBukq",
        "outputId": "0f4c3718-84bf-497b-abaf-81112b088027"
      },
      "execution_count": 20,
      "outputs": [
        {
          "output_type": "stream",
          "name": "stdout",
          "text": [
            "Pormi\n"
          ]
        }
      ]
    },
    {
      "cell_type": "markdown",
      "metadata": {
        "id": "M6FYZhxWa-2t"
      },
      "source": [
        "Types of Objects in Python:\n",
        "1. Immutable Objects\n",
        "2. Mutable Objects"
      ]
    },
    {
      "cell_type": "markdown",
      "metadata": {
        "id": "jtGu0nbsbDOW"
      },
      "source": [
        "Immutable Objects:\n",
        "1. int\n",
        "2. float\n",
        "3. string\n",
        "4. bool\n",
        "5. tuple"
      ]
    },
    {
      "cell_type": "markdown",
      "metadata": {
        "id": "ekg3pl-kbFQR"
      },
      "source": [
        "Mutable Objects:\n",
        "1. List\n",
        "2. Set\n",
        "3. Dictionary"
      ]
    },
    {
      "cell_type": "code",
      "source": [
        "# Define a list of numbers\n",
        "my_list = [1,2,3,4,5]\n",
        "# Print the list\n",
        "print(my_list)\n",
        "# Print the data type of the list\n",
        "type(my_list)"
      ],
      "metadata": {
        "colab": {
          "base_uri": "https://localhost:8080/"
        },
        "id": "kcgTZatDDIml",
        "outputId": "9aeb8871-064c-4bc0-d686-0c68426bf509"
      },
      "execution_count": 21,
      "outputs": [
        {
          "output_type": "stream",
          "name": "stdout",
          "text": [
            "[1, 2, 3, 4, 5]\n"
          ]
        },
        {
          "output_type": "execute_result",
          "data": {
            "text/plain": [
              "list"
            ]
          },
          "metadata": {},
          "execution_count": 21
        }
      ]
    },
    {
      "cell_type": "code",
      "source": [
        "# Lists can contain multiple data types\n",
        "my_list = [2, 3, 1.8, 'English', True]\n",
        "print(my_list)"
      ],
      "metadata": {
        "colab": {
          "base_uri": "https://localhost:8080/"
        },
        "id": "j8B89XZIDIpi",
        "outputId": "e6621dc9-7669-4a26-f0e7-fd2f565c1913"
      },
      "execution_count": 22,
      "outputs": [
        {
          "output_type": "stream",
          "name": "stdout",
          "text": [
            "[2, 3, 1.8, 'English', True]\n"
          ]
        }
      ]
    },
    {
      "cell_type": "code",
      "source": [
        "# Add elements to a list using the append() method\n",
        "my_list = [2, 3, 1.8, 'English', True]\n",
        "my_list.append(6)\n",
        "print(my_list)"
      ],
      "metadata": {
        "id": "O6hNbh2YDIsA",
        "colab": {
          "base_uri": "https://localhost:8080/"
        },
        "outputId": "1da1709a-b6ef-4ed7-d005-76ac25f95a1e"
      },
      "execution_count": 23,
      "outputs": [
        {
          "output_type": "stream",
          "name": "stdout",
          "text": [
            "[2, 3, 1.8, 'English', True, 6]\n"
          ]
        }
      ]
    },
    {
      "cell_type": "markdown",
      "source": [
        "**Lists are Mutable --> Changeable**"
      ],
      "metadata": {
        "id": "qSR-_xhuDgX4"
      }
    },
    {
      "cell_type": "code",
      "source": [
        "# Add elements to a list using the append() method (duplicate cell - can be removed)\n",
        "# my_list = [2, 3, 1.8, 'English', True]\n",
        "# my_list.append(6)\n",
        "# print(my_list)"
      ],
      "metadata": {
        "id": "81eI3kQoDIwh"
      },
      "execution_count": 50,
      "outputs": []
    },
    {
      "cell_type": "code",
      "source": [
        "# Print elements of a list using their index\n",
        "print(my_list[0])\n",
        "print(my_list[2])"
      ],
      "metadata": {
        "colab": {
          "base_uri": "https://localhost:8080/"
        },
        "id": "4yVdn_tpDIzO",
        "outputId": "c2cbe7fd-21fb-466a-d666-66a529ce13b5"
      },
      "execution_count": 25,
      "outputs": [
        {
          "output_type": "stream",
          "name": "stdout",
          "text": [
            "2\n",
            "1.8\n"
          ]
        }
      ]
    },
    {
      "cell_type": "code",
      "source": [
        "# Lists allow duplicate values\n",
        "list_1 = [1,2,3,4,5,12,2,3]\n",
        "print(list_1)"
      ],
      "metadata": {
        "colab": {
          "base_uri": "https://localhost:8080/"
        },
        "id": "oflZrdAsDI11",
        "outputId": "32e4a176-78e3-4da1-d793-25b94788fbb8"
      },
      "execution_count": 26,
      "outputs": [
        {
          "output_type": "stream",
          "name": "stdout",
          "text": [
            "[1, 2, 3, 4, 5, 12, 2, 3]\n"
          ]
        }
      ]
    },
    {
      "cell_type": "code",
      "source": [
        "# Print the length of the list\n",
        "print(len(list_1))"
      ],
      "metadata": {
        "colab": {
          "base_uri": "https://localhost:8080/"
        },
        "id": "sW5Bn9fyDI42",
        "outputId": "d8d87798-bbb1-4542-ecf2-9daa78391acb"
      },
      "execution_count": 27,
      "outputs": [
        {
          "output_type": "stream",
          "name": "stdout",
          "text": [
            "8\n"
          ]
        }
      ]
    },
    {
      "cell_type": "code",
      "source": [
        "# Initiating an empty list\n",
        "list_2 = []\n",
        "print(list_2)"
      ],
      "metadata": {
        "colab": {
          "base_uri": "https://localhost:8080/"
        },
        "id": "8latHwnJDI7B",
        "outputId": "43dbbdf7-ecf2-4eb1-b868-792156a08b12"
      },
      "execution_count": 28,
      "outputs": [
        {
          "output_type": "stream",
          "name": "stdout",
          "text": [
            "[]\n"
          ]
        }
      ]
    },
    {
      "cell_type": "code",
      "source": [
        "# Add an element to the empty list\n",
        "list_2.append(5)\n",
        "print(list_2)"
      ],
      "metadata": {
        "colab": {
          "base_uri": "https://localhost:8080/"
        },
        "id": "a2LuOT1dEJ5U",
        "outputId": "44c344b3-e183-4d8f-e7a2-19e3029a4d14"
      },
      "execution_count": 29,
      "outputs": [
        {
          "output_type": "stream",
          "name": "stdout",
          "text": [
            "[5]\n"
          ]
        }
      ]
    },
    {
      "cell_type": "code",
      "source": [
        "# Delete an item in a list by index using the del keyword\n",
        "list_2 = [2, 3, 1.8, 'English', True, 6]\n",
        "print(list_2)\n",
        "\n",
        "del list_2[2]\n",
        "print(list_2)"
      ],
      "metadata": {
        "colab": {
          "base_uri": "https://localhost:8080/"
        },
        "id": "lHq2C9qOEJ9Y",
        "outputId": "bf992a4d-0144-4998-a6e8-19991ca16ec5"
      },
      "execution_count": 30,
      "outputs": [
        {
          "output_type": "stream",
          "name": "stdout",
          "text": [
            "[2, 3, 1.8, 'English', True, 6]\n",
            "[2, 3, 'English', True, 6]\n"
          ]
        }
      ]
    },
    {
      "cell_type": "code",
      "source": [
        "# Join two lists using the '+' operator\n",
        "list_3 = [1,2,3,4,5]\n",
        "list_4 = [6,7,8,9,10]\n",
        "\n",
        "list_5 = list_3 + list_4\n",
        "print(list_5)"
      ],
      "metadata": {
        "colab": {
          "base_uri": "https://localhost:8080/"
        },
        "id": "T-ScH0RjEKBz",
        "outputId": "cd5bf54a-584a-458f-d6a4-b6b02ed3d405"
      },
      "execution_count": 31,
      "outputs": [
        {
          "output_type": "stream",
          "name": "stdout",
          "text": [
            "[1, 2, 3, 4, 5, 6, 7, 8, 9, 10]\n"
          ]
        }
      ]
    },
    {
      "cell_type": "markdown",
      "metadata": {
        "id": "XoQULhPEhsSk"
      },
      "source": [
        "Tuple"
      ]
    },
    {
      "cell_type": "code",
      "metadata": {
        "colab": {
          "base_uri": "https://localhost:8080/"
        },
        "id": "VSTos6r1hoAo",
        "outputId": "867ce3f4-12b8-45ef-93cc-bc8ebe46cf08"
      },
      "source": [
        "# Define a tuple of numbers\n",
        "tuple_1 = (2,3,4,5)\n",
        "# Print the tuple\n",
        "print(tuple_1)\n",
        "# Print the data type of the tuple\n",
        "type(tuple_1)"
      ],
      "execution_count": 32,
      "outputs": [
        {
          "output_type": "stream",
          "name": "stdout",
          "text": [
            "(2, 3, 4, 5)\n"
          ]
        },
        {
          "output_type": "execute_result",
          "data": {
            "text/plain": [
              "tuple"
            ]
          },
          "metadata": {},
          "execution_count": 32
        }
      ]
    },
    {
      "cell_type": "code",
      "metadata": {
        "colab": {
          "base_uri": "https://localhost:8080/"
        },
        "id": "Tdrh8JsAh37C",
        "outputId": "53e67e5e-53ef-4422-ce86-74f902791d3b"
      },
      "source": [
        "# Tuples can contain multiple data types\n",
        "tuple_2 = (1,2,3.5, 'Machine Learning', False)\n",
        "print(tuple_2)"
      ],
      "execution_count": 33,
      "outputs": [
        {
          "output_type": "stream",
          "name": "stdout",
          "text": [
            "(1, 2, 3.5, 'Machine Learning', False)\n"
          ]
        }
      ]
    },
    {
      "cell_type": "code",
      "metadata": {
        "colab": {
          "base_uri": "https://localhost:8080/"
        },
        "id": "tHxHt22fiIAg",
        "outputId": "31011a75-5434-4223-99ad-2b3002e44dcc"
      },
      "source": [
        "# Converting a list to a tuple\n",
        "my_list = [3,4,5,6]\n",
        "print(my_list)\n",
        "\n",
        "my_tuple = tuple(my_list)\n",
        "print(my_tuple)"
      ],
      "execution_count": 34,
      "outputs": [
        {
          "output_type": "stream",
          "name": "stdout",
          "text": [
            "[3, 4, 5, 6]\n",
            "(3, 4, 5, 6)\n"
          ]
        }
      ]
    },
    {
      "cell_type": "code",
      "metadata": {
        "colab": {
          "base_uri": "https://localhost:8080/"
        },
        "id": "9QRTalV1iay1",
        "outputId": "d6deacbf-b26a-4fb2-9a5c-60668cbccfcd"
      },
      "source": [
        "# Accessing elements of a tuple using their index\n",
        "print(my_tuple[0])\n",
        "print(my_tuple[1])"
      ],
      "execution_count": 35,
      "outputs": [
        {
          "output_type": "stream",
          "name": "stdout",
          "text": [
            "3\n",
            "4\n"
          ]
        }
      ]
    },
    {
      "cell_type": "markdown",
      "metadata": {
        "id": "ORc0vJDHjAwS"
      },
      "source": [
        "Set"
      ]
    },
    {
      "cell_type": "code",
      "metadata": {
        "colab": {
          "base_uri": "https://localhost:8080/"
        },
        "id": "RjaxKroji9mw",
        "outputId": "0d7ef22e-8d4f-41d5-caf2-56a43d6a4251"
      },
      "source": [
        "# Set defined using curly brackets\n",
        "my_set = {1,2,3,4,5}\n",
        "print(my_set)\n",
        "type(my_set)"
      ],
      "execution_count": 36,
      "outputs": [
        {
          "output_type": "stream",
          "name": "stdout",
          "text": [
            "{1, 2, 3, 4, 5}\n"
          ]
        },
        {
          "output_type": "execute_result",
          "data": {
            "text/plain": [
              "set"
            ]
          },
          "metadata": {},
          "execution_count": 36
        }
      ]
    },
    {
      "cell_type": "code",
      "metadata": {
        "colab": {
          "base_uri": "https://localhost:8080/"
        },
        "id": "65IgJYA5jVzr",
        "outputId": "8df44f7d-761d-4951-a380-b413989f02b1"
      },
      "source": [
        "# Convert a list to a set\n",
        "list_5 = [4,5,6,7,8]\n",
        "\n",
        "x = set(list_5)\n",
        "print(x)"
      ],
      "execution_count": 37,
      "outputs": [
        {
          "output_type": "stream",
          "name": "stdout",
          "text": [
            "{4, 5, 6, 7, 8}\n"
          ]
        }
      ]
    },
    {
      "cell_type": "code",
      "metadata": {
        "colab": {
          "base_uri": "https://localhost:8080/"
        },
        "id": "_0D3WDuZjrI_",
        "outputId": "e17a1a8b-06d1-433e-cb5d-7852d7ba972d"
      },
      "source": [
        "# Sets do not allow duplicate values\n",
        "set_3 = {1,2,3,4,5,1,2,3}\n",
        "print(set_3)"
      ],
      "execution_count": 38,
      "outputs": [
        {
          "output_type": "stream",
          "name": "stdout",
          "text": [
            "{1, 2, 3, 4, 5}\n"
          ]
        }
      ]
    },
    {
      "cell_type": "markdown",
      "metadata": {
        "id": "W6i0Eo53j7Sx"
      },
      "source": [
        "Dictionary"
      ]
    },
    {
      "cell_type": "markdown",
      "metadata": {
        "id": "8zHFSdZdj-o9"
      },
      "source": [
        "Key-Value Pair"
      ]
    },
    {
      "cell_type": "code",
      "metadata": {
        "colab": {
          "base_uri": "https://localhost:8080/"
        },
        "id": "gOCf8w7OkVjE",
        "outputId": "e84e8b8d-979e-44d5-ae54-08bcf4fa14f6"
      },
      "source": [
        "# Define a dictionary\n",
        "my_dictionary = {'name':'David', 'age':30, 'country':'India'}\n",
        "\n",
        "# Access and print values from the dictionary using their keys\n",
        "print(my_dictionary['name'])\n",
        "print(my_dictionary['age'])\n",
        "print(my_dictionary['country'])"
      ],
      "execution_count": 39,
      "outputs": [
        {
          "output_type": "stream",
          "name": "stdout",
          "text": [
            "David\n",
            "30\n",
            "India\n"
          ]
        }
      ]
    },
    {
      "cell_type": "code",
      "metadata": {
        "colab": {
          "base_uri": "https://localhost:8080/"
        },
        "id": "8AOHTq6bkoq2",
        "outputId": "d2b962fb-b0f1-44c7-f6e8-1e7ad623044d"
      },
      "source": [
        "# Dictionaries do not allow duplicate keys (the last value for a key will be kept)\n",
        "dictionary_2 = {'name':'David','age':30,'country':'India','name':'David','age':30,'country':'India'}\n",
        "print(dictionary_2)"
      ],
      "execution_count": 40,
      "outputs": [
        {
          "output_type": "stream",
          "name": "stdout",
          "text": [
            "{'name': 'David', 'age': 30, 'country': 'India'}\n"
          ]
        }
      ]
    },
    {
      "cell_type": "code",
      "source": [
        "# Assign values to variables a and b\n",
        "a = 30\n",
        "b = 55\n",
        "\n",
        "# Check if a is greater than b using an if-else statement\n",
        "if (a > b):\n",
        "  # If a is greater than b, print this message\n",
        "  print(\"Ebele gübele\")\n",
        "\n",
        "else:\n",
        "  # If a is not greater than b, print this message\n",
        "  print(\"Ebele hübele değil\")"
      ],
      "metadata": {
        "colab": {
          "base_uri": "https://localhost:8080/"
        },
        "id": "HUFU2BPfiGDA",
        "outputId": "661ebac3-8d68-4c7f-ad61-7adb0559ffe0"
      },
      "execution_count": 41,
      "outputs": [
        {
          "output_type": "stream",
          "name": "stdout",
          "text": [
            "Ebele hübele değil\n"
          ]
        }
      ]
    },
    {
      "cell_type": "code",
      "source": [
        "# Get integer input from the user for two numbers\n",
        "a = int(input(\"Enter the first number: \"))\n",
        "b = int(input(\"Enter the first number: \")) # Note: This prompt is the same as the first one\n",
        "\n",
        "# Check if a is greater than b using an if-else statement\n",
        "if (a>b):\n",
        "  # If a is greater than b, print this message\n",
        "  print(\"Ebele gübele\")\n",
        "\n",
        "else:\n",
        "  # If a is not greater than b, print this message\n",
        "  print(\"Ebele hübele değil\")"
      ],
      "metadata": {
        "colab": {
          "base_uri": "https://localhost:8080/"
        },
        "id": "O9utDb9riGF5",
        "outputId": "d3b80ef4-ad1a-4038-8f7e-4ab3808deeb8"
      },
      "execution_count": 42,
      "outputs": [
        {
          "output_type": "stream",
          "name": "stdout",
          "text": [
            "Enter the first number: 44\n",
            "Enter the first number: 2\n",
            "Ebele gübele\n"
          ]
        }
      ]
    },
    {
      "cell_type": "code",
      "source": [
        "# Assign values to variables a, b, and c\n",
        "a = 15\n",
        "b= 44\n",
        "c = 19\n",
        "\n",
        "# Check conditions using if-elif-else to find the greatest number\n",
        "if (a > b and a > c):\n",
        "  print(\"a is the greatest number\")\n",
        "\n",
        "elif (b > a and b > c):\n",
        "  print(\"b is the greatest number\")\n",
        "\n",
        "else:\n",
        "  print(\"c is the greatest number\")"
      ],
      "metadata": {
        "colab": {
          "base_uri": "https://localhost:8080/"
        },
        "id": "DFrxBct-iGIR",
        "outputId": "fe03b1a5-5b3f-458f-df69-c1fdb6aa5791"
      },
      "execution_count": 43,
      "outputs": [
        {
          "output_type": "stream",
          "name": "stdout",
          "text": [
            "b is the greatest number\n"
          ]
        }
      ]
    },
    {
      "cell_type": "code",
      "source": [
        "# Assign values to variables a, b, and c\n",
        "a = 20\n",
        "b = 40\n",
        "c = 60\n",
        "\n",
        "# Check conditions using nested if-elif-else to find the greatest number\n",
        "if (a>b):\n",
        "  if(a>c):\n",
        "    print(\"a is the greatest number\")\n",
        "\n",
        "elif (b>a):\n",
        "  if(b>c):\n",
        "    print(\"b is the greatest number\")\n",
        "\n",
        "else:\n",
        "  print(\"c is the greatest number\")"
      ],
      "metadata": {
        "id": "Q2lG0JswjO-x"
      },
      "execution_count": 44,
      "outputs": []
    },
    {
      "cell_type": "markdown",
      "source": [
        "**FOR LOOP**"
      ],
      "metadata": {
        "id": "ncpNpxKTkB6U"
      }
    },
    {
      "cell_type": "code",
      "source": [
        "# Get the price of a laptop from the user\n",
        "laptop = int(input(\"Enter the price of the laptop : \"))"
      ],
      "metadata": {
        "id": "9egzc3Asj-5Y",
        "colab": {
          "base_uri": "https://localhost:8080/"
        },
        "outputId": "1d0d087c-e09e-437c-d7e3-1253182b7bf1"
      },
      "execution_count": 45,
      "outputs": [
        {
          "name": "stdout",
          "output_type": "stream",
          "text": [
            "Enter the price of the laptop : 3232\n"
          ]
        }
      ]
    },
    {
      "cell_type": "code",
      "source": [
        "# Loop 5 times to get laptop prices from the user using a for loop\n",
        "for i in range (5):\n",
        "  laptop_price = int(input(\"Enter the price of the laptop : \"))"
      ],
      "metadata": {
        "id": "UqO6558Ljri0",
        "colab": {
          "base_uri": "https://localhost:8080/"
        },
        "outputId": "2f494e93-5d24-4adb-e139-5f1ae3f5eb27"
      },
      "execution_count": 46,
      "outputs": [
        {
          "name": "stdout",
          "output_type": "stream",
          "text": [
            "Enter the price of the laptop : 2323\n",
            "Enter the price of the laptop : 3232\n",
            "Enter the price of the laptop : 424\n",
            "Enter the price of the laptop : 31\n",
            "Enter the price of the laptop : 2323\n"
          ]
        }
      ]
    },
    {
      "cell_type": "code",
      "source": [
        "# Iterate through a list of numbers and print each number using a for loop\n",
        "numbers = [1,2,3,4]\n",
        "\n",
        "for i in numbers:\n",
        "  print(i)"
      ],
      "metadata": {
        "id": "bBDXBiL5jrla",
        "colab": {
          "base_uri": "https://localhost:8080/"
        },
        "outputId": "9046abe9-0d7e-4ef8-85c2-25bb48939dd6"
      },
      "execution_count": 47,
      "outputs": [
        {
          "output_type": "stream",
          "name": "stdout",
          "text": [
            "1\n",
            "2\n",
            "3\n",
            "4\n"
          ]
        }
      ]
    },
    {
      "cell_type": "markdown",
      "source": [
        "**WHİLE LOOP**"
      ],
      "metadata": {
        "id": "OnhH2mDQmOON"
      }
    },
    {
      "cell_type": "code",
      "source": [
        "# Use a while loop to print numbers from 0 to 9\n",
        "i = 0\n",
        "\n",
        "while i < 10:\n",
        "  print(i)\n",
        "  i += 1    # i = i+1"
      ],
      "metadata": {
        "id": "GUv3gmiLjrn4",
        "colab": {
          "base_uri": "https://localhost:8080/"
        },
        "outputId": "671166a9-874e-49cf-9b76-bde33136ff1d"
      },
      "execution_count": 48,
      "outputs": [
        {
          "output_type": "stream",
          "name": "stdout",
          "text": [
            "0\n",
            "1\n",
            "2\n",
            "3\n",
            "4\n",
            "5\n",
            "6\n",
            "7\n",
            "8\n",
            "9\n"
          ]
        }
      ]
    },
    {
      "cell_type": "code",
      "source": [
        "# Use a for loop with range to print numbers from 0 to 8\n",
        "i = 0 # This initialization is not strictly necessary for the for loop\n",
        "for i in range(9):\n",
        "  print(i)"
      ],
      "metadata": {
        "id": "-mvKWZsKjrqm",
        "colab": {
          "base_uri": "https://localhost:8080/"
        },
        "outputId": "3ca7270e-d76f-49d0-81ab-1a590218979d"
      },
      "execution_count": 49,
      "outputs": [
        {
          "output_type": "stream",
          "name": "stdout",
          "text": [
            "0\n",
            "1\n",
            "2\n",
            "3\n",
            "4\n",
            "5\n",
            "6\n",
            "7\n",
            "8\n"
          ]
        }
      ]
    },
    {
      "cell_type": "markdown",
      "source": [
        "Functions :\n",
        "\n",
        "Function is a block of code that can be reused in a progaram"
      ],
      "metadata": {
        "id": "ESszpPvSn6IF"
      }
    },
    {
      "cell_type": "code",
      "source": [
        "# Get a number from the user to find its factorial\n",
        "number = int(input(\"Enter a number to find it's factorial:  \"))\n",
        "\n",
        "factorial = 1\n",
        "\n",
        "# Check if the number is 0\n",
        "if number == 0:\n",
        "  print(\"The factorial of 0 is 1\")\n",
        "\n",
        "# If the number is not 0, calculate the factorial\n",
        "else:\n",
        "  for i in range(1, number+1):\n",
        "    factorial = factorial*i\n",
        "print(\"The factorial of\", number, \"is\", factorial)"
      ],
      "metadata": {
        "id": "VybnHL14jrtU",
        "colab": {
          "base_uri": "https://localhost:8080/"
        },
        "outputId": "c4f99076-e192-4a6b-b0c3-ce8fd3896f8b"
      },
      "execution_count": null,
      "outputs": [
        {
          "output_type": "stream",
          "name": "stdout",
          "text": [
            "Enter a number to find it's factorial:  2\n",
            "The factorial of 2 is 2\n"
          ]
        }
      ]
    },
    {
      "cell_type": "markdown",
      "source": [
        "Factorial Function"
      ],
      "metadata": {
        "id": "AEKEXfuapqqX"
      }
    },
    {
      "cell_type": "code",
      "source": [
        "# Define a function to calculate the factorial of a number\n",
        "def factorial_value(num):\n",
        "\n",
        "  factorial = 1\n",
        "\n",
        "  # If the number is 0, return 1 (factorial of 0 is 1)\n",
        "  if num == 0:\n",
        "    return factorial\n",
        "\n",
        "  # If the number is not 0, calculate the factorial using a loop\n",
        "  else:\n",
        "    for i in range(1, num+1):\n",
        "      factorial = factorial*i\n",
        "    return factorial"
      ],
      "metadata": {
        "id": "ykXMNJ4OptXk"
      },
      "execution_count": 3,
      "outputs": []
    },
    {
      "cell_type": "code",
      "source": [
        "# Call the factorial_value function with an example number (5) and print the result\n",
        "print(factorial_value(5))"
      ],
      "metadata": {
        "colab": {
          "base_uri": "https://localhost:8080/"
        },
        "id": "agY4CVEvqHbK",
        "outputId": "713d4bd9-4d9d-4c65-e4d8-209ed5f3158e"
      },
      "execution_count": 4,
      "outputs": [
        {
          "output_type": "stream",
          "name": "stdout",
          "text": [
            "120\n"
          ]
        }
      ]
    },
    {
      "cell_type": "code",
      "source": [],
      "metadata": {
        "id": "jGUtujBVqJC_"
      },
      "execution_count": null,
      "outputs": []
    }
  ]
}